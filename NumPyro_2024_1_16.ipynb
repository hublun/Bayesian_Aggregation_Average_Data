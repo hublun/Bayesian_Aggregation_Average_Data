{
  "nbformat": 4,
  "nbformat_minor": 0,
  "metadata": {
    "colab": {
      "provenance": [],
      "gpuType": "T4",
      "include_colab_link": true
    },
    "kernelspec": {
      "name": "python3",
      "display_name": "Python 3"
    },
    "language_info": {
      "name": "python"
    },
    "accelerator": "GPU"
  },
  "cells": [
    {
      "cell_type": "markdown",
      "metadata": {
        "id": "view-in-github",
        "colab_type": "text"
      },
      "source": [
        "<a href=\"https://colab.research.google.com/github/hublun/Bayesian_Aggregation_Average_Data/blob/master/NumPyro_2024_1_16.ipynb\" target=\"_parent\"><img src=\"https://colab.research.google.com/assets/colab-badge.svg\" alt=\"Open In Colab\"/></a>"
      ]
    },
    {
      "cell_type": "markdown",
      "source": [
        "### Using the OpenAI Library to Programmatically Access GPT-3.5-turbo!\n",
        "\n",
        "This notebook was authored by [DRC Lab](http://www.dulun.com)"
      ],
      "metadata": {
        "id": "kQt-gyAYUbm3"
      }
    },
    {
      "cell_type": "code",
      "source": [
        "!nvcc --version"
      ],
      "metadata": {
        "colab": {
          "base_uri": "https://localhost:8080/"
        },
        "id": "RwxgaX78E_W0",
        "outputId": "423f0c80-eddd-473f-fbd2-7abe0a005c99"
      },
      "execution_count": 1,
      "outputs": [
        {
          "output_type": "stream",
          "name": "stdout",
          "text": [
            "nvcc: NVIDIA (R) Cuda compiler driver\n",
            "Copyright (c) 2005-2023 NVIDIA Corporation\n",
            "Built on Tue_Aug_15_22:02:13_PDT_2023\n",
            "Cuda compilation tools, release 12.2, V12.2.140\n",
            "Build cuda_12.2.r12.2/compiler.33191640_0\n"
          ]
        }
      ]
    },
    {
      "cell_type": "code",
      "source": [
        "!nvidia-smi"
      ],
      "metadata": {
        "colab": {
          "base_uri": "https://localhost:8080/"
        },
        "id": "5Y4dvNS3FG-u",
        "outputId": "817650cc-6dcf-4a59-98cd-04f5ab670486"
      },
      "execution_count": 2,
      "outputs": [
        {
          "output_type": "stream",
          "name": "stdout",
          "text": [
            "Tue Jan 16 15:12:12 2024       \n",
            "+---------------------------------------------------------------------------------------+\n",
            "| NVIDIA-SMI 535.104.05             Driver Version: 535.104.05   CUDA Version: 12.2     |\n",
            "|-----------------------------------------+----------------------+----------------------+\n",
            "| GPU  Name                 Persistence-M | Bus-Id        Disp.A | Volatile Uncorr. ECC |\n",
            "| Fan  Temp   Perf          Pwr:Usage/Cap |         Memory-Usage | GPU-Util  Compute M. |\n",
            "|                                         |                      |               MIG M. |\n",
            "|=========================================+======================+======================|\n",
            "|   0  Tesla T4                       Off | 00000000:00:04.0 Off |                    0 |\n",
            "| N/A   63C    P8              10W /  70W |      0MiB / 15360MiB |      0%      Default |\n",
            "|                                         |                      |                  N/A |\n",
            "+-----------------------------------------+----------------------+----------------------+\n",
            "                                                                                         \n",
            "+---------------------------------------------------------------------------------------+\n",
            "| Processes:                                                                            |\n",
            "|  GPU   GI   CI        PID   Type   Process name                            GPU Memory |\n",
            "|        ID   ID                                                             Usage      |\n",
            "|=======================================================================================|\n",
            "|  No running processes found                                                           |\n",
            "+---------------------------------------------------------------------------------------+\n"
          ]
        }
      ]
    },
    {
      "cell_type": "code",
      "source": [
        "import jax"
      ],
      "metadata": {
        "id": "R0YddF2vFK71"
      },
      "execution_count": 3,
      "outputs": []
    },
    {
      "cell_type": "code",
      "source": [
        "jax.devices()"
      ],
      "metadata": {
        "colab": {
          "base_uri": "https://localhost:8080/"
        },
        "id": "DHBj4Kt4FNjr",
        "outputId": "44f18859-a2a2-45a7-ea00-a62a98aee33d"
      },
      "execution_count": 4,
      "outputs": [
        {
          "output_type": "execute_result",
          "data": {
            "text/plain": [
              "[cuda(id=0)]"
            ]
          },
          "metadata": {},
          "execution_count": 4
        }
      ]
    },
    {
      "cell_type": "code",
      "source": [
        "from jax import grad\n",
        "import jax.numpy as jnp\n",
        "\n",
        "def tanh(x):  # Define a function\n",
        "  y = jnp.exp(-2.0 * x)\n",
        "  return (1.0 - y) / (1.0 + y)\n",
        "\n",
        "grad_tanh = grad(tanh)  # Obtain its gradient function\n",
        "print(grad_tanh(1.0))   # Evaluate it at x = 1.0"
      ],
      "metadata": {
        "colab": {
          "base_uri": "https://localhost:8080/"
        },
        "id": "zfnmtgmYFSoq",
        "outputId": "38c72efe-e2fc-4a78-b8c5-477babd01740"
      },
      "execution_count": 5,
      "outputs": [
        {
          "output_type": "stream",
          "name": "stdout",
          "text": [
            "0.4199743\n"
          ]
        }
      ]
    },
    {
      "cell_type": "markdown",
      "source": [
        "\n",
        "\n",
        "---\n",
        "\n"
      ],
      "metadata": {
        "id": "ow840WyUGE3c"
      }
    },
    {
      "cell_type": "code",
      "source": [
        "!pip install -q numpyro@git+https://github.com/pyro-ppl/numpyro"
      ],
      "metadata": {
        "colab": {
          "base_uri": "https://localhost:8080/"
        },
        "id": "RGJ3wbqMFSXC",
        "outputId": "2d4d706f-5851-44df-9588-4e463e4cbd62"
      },
      "execution_count": 6,
      "outputs": [
        {
          "output_type": "stream",
          "name": "stdout",
          "text": [
            "  Installing build dependencies ... \u001b[?25l\u001b[?25hdone\n",
            "  Getting requirements to build wheel ... \u001b[?25l\u001b[?25hdone\n",
            "  Preparing metadata (pyproject.toml) ... \u001b[?25l\u001b[?25hdone\n",
            "  Building wheel for numpyro (pyproject.toml) ... \u001b[?25l\u001b[?25hdone\n"
          ]
        }
      ]
    },
    {
      "cell_type": "code",
      "execution_count": 7,
      "metadata": {
        "id": "I4SKfBCSB8ds"
      },
      "outputs": [],
      "source": [
        "import numpyro"
      ]
    },
    {
      "cell_type": "code",
      "source": [
        "numpyro.set_platform('gpu')"
      ],
      "metadata": {
        "id": "5Ql-jUz-nLiB"
      },
      "execution_count": 8,
      "outputs": []
    },
    {
      "cell_type": "code",
      "source": [
        "numpyro.set_host_device_count(3)"
      ],
      "metadata": {
        "id": "FBYU7vL41-dQ"
      },
      "execution_count": 9,
      "outputs": []
    },
    {
      "cell_type": "code",
      "source": [
        "import os\n",
        "\n",
        "import matplotlib.pyplot as plt\n",
        "import pandas as pd\n",
        "from IPython.display import set_matplotlib_formats\n",
        "\n",
        "import jax.numpy as jnp\n",
        "from jax import random\n",
        "\n",
        "import numpyro.distributions as dist\n",
        "from numpyro.contrib.control_flow import scan\n",
        "from numpyro.diagnostics import autocorrelation, hpdi\n",
        "from numpyro.infer import MCMC, NUTS, Predictive\n",
        "\n",
        "if \"NUMPYRO_SPHINXBUILD\" in os.environ:\n",
        "    set_matplotlib_formats(\"svg\")\n",
        "\n",
        "numpyro.set_host_device_count(4)\n",
        "assert numpyro.__version__.startswith(\"0.13.2\")"
      ],
      "metadata": {
        "id": "-6eUin7dzyUF"
      },
      "execution_count": 10,
      "outputs": []
    },
    {
      "cell_type": "markdown",
      "source": [
        "\n",
        "\n",
        "---\n",
        "\n"
      ],
      "metadata": {
        "id": "PInACkIWUhOd"
      }
    },
    {
      "cell_type": "code",
      "source": [
        "URL = \"https://raw.githubusercontent.com/vincentarelbundock/Rdatasets/master/csv/datasets/lynx.csv\"\n",
        "lynx = pd.read_csv(URL, index_col=0)\n",
        "data = lynx[\"value\"].values\n",
        "\n",
        "print(\"Length of time series:\", data.shape[0])\n",
        "plt.figure(figsize=(8, 4))\n",
        "plt.plot(lynx[\"time\"], data)\n",
        "plt.show()"
      ],
      "metadata": {
        "colab": {
          "base_uri": "https://localhost:8080/",
          "height": 385
        },
        "id": "PcCe0AF40M25",
        "outputId": "f788a782-6616-4a26-8510-d57160cd5425"
      },
      "execution_count": 11,
      "outputs": [
        {
          "output_type": "stream",
          "name": "stdout",
          "text": [
            "Length of time series: 114\n"
          ]
        },
        {
          "output_type": "display_data",
          "data": {
            "text/plain": [
              "<Figure size 800x400 with 1 Axes>"
            ],
            "image/png": "[encoded data removed]"
          },
          "metadata": {}
        }
      ]
    },
    {
      "cell_type": "code",
      "source": [
        "lynx.head()"
      ],
      "metadata": {
        "colab": {
          "base_uri": "https://localhost:8080/",
          "height": 238
        },
        "id": "Pt5JXjc40WDG",
        "outputId": "a0d33619-856b-449c-b5dc-6bb1d995b6cf"
      },
      "execution_count": 12,
      "outputs": [
        {
          "output_type": "execute_result",
          "data": {
            "text/plain": [
              "          time  value\n",
              "rownames             \n",
              "1         1821    269\n",
              "2         1822    321\n",
              "3         1823    585\n",
              "4         1824    871\n",
              "5         1825   1475"
            ],
            "text/html": [
              "\n",
              "  <div id=\"df-d777d2d4-83de-47f3-bd40-1ed5995b16f2\" class=\"colab-df-container\">\n",
              "    <div>\n",
              "<style scoped>\n",
              "    .dataframe tbody tr th:only-of-type {\n",
              "        vertical-align: middle;\n",
              "    }\n",
              "\n",
              "    .dataframe tbody tr th {\n",
              "        vertical-align: top;\n",
              "    }\n",
              "\n",
              "    .dataframe thead th {\n",
              "        text-align: right;\n",
              "    }\n",
              "</style>\n",
              "<table border=\"1\" class=\"dataframe\">\n",
              "  <thead>\n",
              "    <tr style=\"text-align: right;\">\n",
              "      <th></th>\n",
              "      <th>time</th>\n",
              "      <th>value</th>\n",
              "    </tr>\n",
              "    <tr>\n",
              "      <th>rownames</th>\n",
              "      <th></th>\n",
              "      <th></th>\n",
              "    </tr>\n",
              "  </thead>\n",
              "  <tbody>\n",
              "    <tr>\n",
              "      <th>1</th>\n",
              "      <td>1821</td>\n",
              "      <td>269</td>\n",
              "    </tr>\n",
              "    <tr>\n",
              "      <th>2</th>\n",
              "      <td>1822</td>\n",
              "      <td>321</td>\n",
              "    </tr>\n",
              "    <tr>\n",
              "      <th>3</th>\n",
              "      <td>1823</td>\n",
              "      <td>585</td>\n",
              "    </tr>\n",
              "    <tr>\n",
              "      <th>4</th>\n",
              "      <td>1824</td>\n",
              "      <td>871</td>\n",
              "    </tr>\n",
              "    <tr>\n",
              "      <th>5</th>\n",
              "      <td>1825</td>\n",
              "      <td>1475</td>\n",
              "    </tr>\n",
              "  </tbody>\n",
              "</table>\n",
              "</div>\n",
              "    <div class=\"colab-df-buttons\">\n",
              "\n",
              "  <div class=\"colab-df-container\">\n",
              "    <button class=\"colab-df-convert\" onclick=\"convertToInteractive('df-d777d2d4-83de-47f3-bd40-1ed5995b16f2')\"\n",
              "            title=\"Convert this dataframe to an interactive table.\"\n",
              "            style=\"display:none;\">\n",
              "\n",
              "  <svg xmlns=\"http://www.w3.org/2000/svg\" height=\"24px\" viewBox=\"0 -960 960 960\">\n",
              "    <path d=\"M120-120v-720h720v720H120Zm60-500h600v-160H180v160Zm220 220h160v-160H400v160Zm0 220h160v-160H400v160ZM180-400h160v-160H180v160Zm440 0h160v-160H620v160ZM180-180h160v-160H180v160Zm440 0h160v-160H620v160Z\"/>\n",
              "  </svg>\n",
              "    </button>\n",
              "\n",
              "  <style>\n",
              "    .colab-df-container {\n",
              "      display:flex;\n",
              "      gap: 12px;\n",
              "    }\n",
              "\n",
              "    .colab-df-convert {\n",
              "      background-color: #E8F0FE;\n",
              "      border: none;\n",
              "      border-radius: 50%;\n",
              "      cursor: pointer;\n",
              "      display: none;\n",
              "      fill: #1967D2;\n",
              "      height: 32px;\n",
              "      padding: 0 0 0 0;\n",
              "      width: 32px;\n",
              "    }\n",
              "\n",
              "    .colab-df-convert:hover {\n",
              "      background-color: #E2EBFA;\n",
              "      box-shadow: 0px 1px 2px rgba(60, 64, 67, 0.3), 0px 1px 3px 1px rgba(60, 64, 67, 0.15);\n",
              "      fill: #174EA6;\n",
              "    }\n",
              "\n",
              "    .colab-df-buttons div {\n",
              "      margin-bottom: 4px;\n",
              "    }\n",
              "\n",
              "    [theme=dark] .colab-df-convert {\n",
              "      background-color: #3B4455;\n",
              "      fill: #D2E3FC;\n",
              "    }\n",
              "\n",
              "    [theme=dark] .colab-df-convert:hover {\n",
              "      background-color: #434B5C;\n",
              "      box-shadow: 0px 1px 3px 1px rgba(0, 0, 0, 0.15);\n",
              "      filter: drop-shadow(0px 1px 2px rgba(0, 0, 0, 0.3));\n",
              "      fill: #FFFFFF;\n",
              "    }\n",
              "  </style>\n",
              "\n",
              "    <script>\n",
              "      const buttonEl =\n",
              "        document.querySelector('#df-d777d2d4-83de-47f3-bd40-1ed5995b16f2 button.colab-df-convert');\n",
              "      buttonEl.style.display =\n",
              "        google.colab.kernel.accessAllowed ? 'block' : 'none';\n",
              "\n",
              "      async function convertToInteractive(key) {\n",
              "        const element = document.querySelector('#df-d777d2d4-83de-47f3-bd40-1ed5995b16f2');\n",
              "        const dataTable =\n",
              "          await google.colab.kernel.invokeFunction('convertToInteractive',\n",
              "                                                    [key], {});\n",
              "        if (!dataTable) return;\n",
              "\n",
              "        const docLinkHtml = 'Like what you see? Visit the ' +\n",
              "          '<a target=\"_blank\" href=https://colab.research.google.com/notebooks/data_table.ipynb>data table notebook</a>'\n",
              "          + ' to learn more about interactive tables.';\n",
              "        element.innerHTML = '';\n",
              "        dataTable['output_type'] = 'display_data';\n",
              "        await google.colab.output.renderOutput(dataTable, element);\n",
              "        const docLink = document.createElement('div');\n",
              "        docLink.innerHTML = docLinkHtml;\n",
              "        element.appendChild(docLink);\n",
              "      }\n",
              "    </script>\n",
              "  </div>\n",
              "\n",
              "\n",
              "<div id=\"df-8718f163-794f-4090-a5c2-1f7870b90c04\">\n",
              "  <button class=\"colab-df-quickchart\" onclick=\"quickchart('df-8718f163-794f-4090-a5c2-1f7870b90c04')\"\n",
              "            title=\"Suggest charts\"\n",
              "            style=\"display:none;\">\n",
              "\n",
              "<svg xmlns=\"http://www.w3.org/2000/svg\" height=\"24px\"viewBox=\"0 0 24 24\"\n",
              "     width=\"24px\">\n",
              "    <g>\n",
              "        <path d=\"M19 3H5c-1.1 0-2 .9-2 2v14c0 1.1.9 2 2 2h14c1.1 0 2-.9 2-2V5c0-1.1-.9-2-2-2zM9 17H7v-7h2v7zm4 0h-2V7h2v10zm4 0h-2v-4h2v4z\"/>\n",
              "    </g>\n",
              "</svg>\n",
              "  </button>\n",
              "\n",
              "<style>\n",
              "  .colab-df-quickchart {\n",
              "      --bg-color: #E8F0FE;\n",
              "      --fill-color: #1967D2;\n",
              "      --hover-bg-color: #E2EBFA;\n",
              "      --hover-fill-color: #174EA6;\n",
              "      --disabled-fill-color: #AAA;\n",
              "      --disabled-bg-color: #DDD;\n",
              "  }\n",
              "\n",
              "  [theme=dark] .colab-df-quickchart {\n",
              "      --bg-color: #3B4455;\n",
              "      --fill-color: #D2E3FC;\n",
              "      --hover-bg-color: #434B5C;\n",
              "      --hover-fill-color: #FFFFFF;\n",
              "      --disabled-bg-color: #3B4455;\n",
              "      --disabled-fill-color: #666;\n",
              "  }\n",
              "\n",
              "  .colab-df-quickchart {\n",
              "    background-color: var(--bg-color);\n",
              "    border: none;\n",
              "    border-radius: 50%;\n",
              "    cursor: pointer;\n",
              "    display: none;\n",
              "    fill: var(--fill-color);\n",
              "    height: 32px;\n",
              "    padding: 0;\n",
              "    width: 32px;\n",
              "  }\n",
              "\n",
              "  .colab-df-quickchart:hover {\n",
              "    background-color: var(--hover-bg-color);\n",
              "    box-shadow: 0 1px 2px rgba(60, 64, 67, 0.3), 0 1px 3px 1px rgba(60, 64, 67, 0.15);\n",
              "    fill: var(--button-hover-fill-color);\n",
              "  }\n",
              "\n",
              "  .colab-df-quickchart-complete:disabled,\n",
              "  .colab-df-quickchart-complete:disabled:hover {\n",
              "    background-color: var(--disabled-bg-color);\n",
              "    fill: var(--disabled-fill-color);\n",
              "    box-shadow: none;\n",
              "  }\n",
              "\n",
              "  .colab-df-spinner {\n",
              "    border: 2px solid var(--fill-color);\n",
              "    border-color: transparent;\n",
              "    border-bottom-color: var(--fill-color);\n",
              "    animation:\n",
              "      spin 1s steps(1) infinite;\n",
              "  }\n",
              "\n",
              "  @keyframes spin {\n",
              "    0% {\n",
              "      border-color: transparent;\n",
              "      border-bottom-color: var(--fill-color);\n",
              "      border-left-color: var(--fill-color);\n",
              "    }\n",
              "    20% {\n",
              "      border-color: transparent;\n",
              "      border-left-color: var(--fill-color);\n",
              "      border-top-color: var(--fill-color);\n",
              "    }\n",
              "    30% {\n",
              "      border-color: transparent;\n",
              "      border-left-color: var(--fill-color);\n",
              "      border-top-color: var(--fill-color);\n",
              "      border-right-color: var(--fill-color);\n",
              "    }\n",
              "    40% {\n",
              "      border-color: transparent;\n",
              "      border-right-color: var(--fill-color);\n",
              "      border-top-color: var(--fill-color);\n",
              "    }\n",
              "    60% {\n",
              "      border-color: transparent;\n",
              "      border-right-color: var(--fill-color);\n",
              "    }\n",
              "    80% {\n",
              "      border-color: transparent;\n",
              "      border-right-color: var(--fill-color);\n",
              "      border-bottom-color: var(--fill-color);\n",
              "    }\n",
              "    90% {\n",
              "      border-color: transparent;\n",
              "      border-bottom-color: var(--fill-color);\n",
              "    }\n",
              "  }\n",
              "</style>\n",
              "\n",
              "  <script>\n",
              "    async function quickchart(key) {\n",
              "      const quickchartButtonEl =\n",
              "        document.querySelector('#' + key + ' button');\n",
              "      quickchartButtonEl.disabled = true;  // To prevent multiple clicks.\n",
              "      quickchartButtonEl.classList.add('colab-df-spinner');\n",
              "      try {\n",
              "        const charts = await google.colab.kernel.invokeFunction(\n",
              "            'suggestCharts', [key], {});\n",
              "      } catch (error) {\n",
              "        console.error('Error during call to suggestCharts:', error);\n",
              "      }\n",
              "      quickchartButtonEl.classList.remove('colab-df-spinner');\n",
              "      quickchartButtonEl.classList.add('colab-df-quickchart-complete');\n",
              "    }\n",
              "    (() => {\n",
              "      let quickchartButtonEl =\n",
              "        document.querySelector('#df-8718f163-794f-4090-a5c2-1f7870b90c04 button');\n",
              "      quickchartButtonEl.style.display =\n",
              "        google.colab.kernel.accessAllowed ? 'block' : 'none';\n",
              "    })();\n",
              "  </script>\n",
              "</div>\n",
              "\n",
              "    </div>\n",
              "  </div>\n"
            ]
          },
          "metadata": {},
          "execution_count": 12
        }
      ]
    },
    {
      "cell_type": "code",
      "source": [
        "lynx.describe()"
      ],
      "metadata": {
        "colab": {
          "base_uri": "https://localhost:8080/",
          "height": 300
        },
        "id": "RZ3wmOid0Z6e",
        "outputId": "c7da34de-f4d6-484a-a9a8-3db89453bc8d"
      },
      "execution_count": 13,
      "outputs": [
        {
          "output_type": "execute_result",
          "data": {
            "text/plain": [
              "              time        value\n",
              "count   114.000000   114.000000\n",
              "mean   1877.500000  1538.017544\n",
              "std      33.052988  1585.843914\n",
              "min    1821.000000    39.000000\n",
              "25%    1849.250000   348.250000\n",
              "50%    1877.500000   771.000000\n",
              "75%    1905.750000  2566.750000\n",
              "max    1934.000000  6991.000000"
            ],
            "text/html": [
              "\n",
              "  <div id=\"df-3027c850-526d-4ffd-9fd7-c97ca8250463\" class=\"colab-df-container\">\n",
              "    <div>\n",
              "<style scoped>\n",
              "    .dataframe tbody tr th:only-of-type {\n",
              "        vertical-align: middle;\n",
              "    }\n",
              "\n",
              "    .dataframe tbody tr th {\n",
              "        vertical-align: top;\n",
              "    }\n",
              "\n",
              "    .dataframe thead th {\n",
              "        text-align: right;\n",
              "    }\n",
              "</style>\n",
              "<table border=\"1\" class=\"dataframe\">\n",
              "  <thead>\n",
              "    <tr style=\"text-align: right;\">\n",
              "      <th></th>\n",
              "      <th>time</th>\n",
              "      <th>value</th>\n",
              "    </tr>\n",
              "  </thead>\n",
              "  <tbody>\n",
              "    <tr>\n",
              "      <th>count</th>\n",
              "      <td>114.000000</td>\n",
              "      <td>114.000000</td>\n",
              "    </tr>\n",
              "    <tr>\n",
              "      <th>mean</th>\n",
              "      <td>1877.500000</td>\n",
              "      <td>1538.017544</td>\n",
              "    </tr>\n",
              "    <tr>\n",
              "      <th>std</th>\n",
              "      <td>33.052988</td>\n",
              "      <td>1585.843914</td>\n",
              "    </tr>\n",
              "    <tr>\n",
              "      <th>min</th>\n",
              "      <td>1821.000000</td>\n",
              "      <td>39.000000</td>\n",
              "    </tr>\n",
              "    <tr>\n",
              "      <th>25%</th>\n",
              "      <td>1849.250000</td>\n",
              "      <td>348.250000</td>\n",
              "    </tr>\n",
              "    <tr>\n",
              "      <th>50%</th>\n",
              "      <td>1877.500000</td>\n",
              "      <td>771.000000</td>\n",
              "    </tr>\n",
              "    <tr>\n",
              "      <th>75%</th>\n",
              "      <td>1905.750000</td>\n",
              "      <td>2566.750000</td>\n",
              "    </tr>\n",
              "    <tr>\n",
              "      <th>max</th>\n",
              "      <td>1934.000000</td>\n",
              "      <td>6991.000000</td>\n",
              "    </tr>\n",
              "  </tbody>\n",
              "</table>\n",
              "</div>\n",
              "    <div class=\"colab-df-buttons\">\n",
              "\n",
              "  <div class=\"colab-df-container\">\n",
              "    <button class=\"colab-df-convert\" onclick=\"convertToInteractive('df-3027c850-526d-4ffd-9fd7-c97ca8250463')\"\n",
              "            title=\"Convert this dataframe to an interactive table.\"\n",
              "            style=\"display:none;\">\n",
              "\n",
              "  <svg xmlns=\"http://www.w3.org/2000/svg\" height=\"24px\" viewBox=\"0 -960 960 960\">\n",
              "    <path d=\"M120-120v-720h720v720H120Zm60-500h600v-160H180v160Zm220 220h160v-160H400v160Zm0 220h160v-160H400v160ZM180-400h160v-160H180v160Zm440 0h160v-160H620v160ZM180-180h160v-160H180v160Zm440 0h160v-160H620v160Z\"/>\n",
              "  </svg>\n",
              "    </button>\n",
              "\n",
              "  <style>\n",
              "    .colab-df-container {\n",
              "      display:flex;\n",
              "      gap: 12px;\n",
              "    }\n",
              "\n",
              "    .colab-df-convert {\n",
              "      background-color: #E8F0FE;\n",
              "      border: none;\n",
              "      border-radius: 50%;\n",
              "      cursor: pointer;\n",
              "      display: none;\n",
              "      fill: #1967D2;\n",
              "      height: 32px;\n",
              "      padding: 0 0 0 0;\n",
              "      width: 32px;\n",
              "    }\n",
              "\n",
              "    .colab-df-convert:hover {\n",
              "      background-color: #E2EBFA;\n",
              "      box-shadow: 0px 1px 2px rgba(60, 64, 67, 0.3), 0px 1px 3px 1px rgba(60, 64, 67, 0.15);\n",
              "      fill: #174EA6;\n",
              "    }\n",
              "\n",
              "    .colab-df-buttons div {\n",
              "      margin-bottom: 4px;\n",
              "    }\n",
              "\n",
              "    [theme=dark] .colab-df-convert {\n",
              "      background-color: #3B4455;\n",
              "      fill: #D2E3FC;\n",
              "    }\n",
              "\n",
              "    [theme=dark] .colab-df-convert:hover {\n",
              "      background-color: #434B5C;\n",
              "      box-shadow: 0px 1px 3px 1px rgba(0, 0, 0, 0.15);\n",
              "      filter: drop-shadow(0px 1px 2px rgba(0, 0, 0, 0.3));\n",
              "      fill: #FFFFFF;\n",
              "    }\n",
              "  </style>\n",
              "\n",
              "    <script>\n",
              "      const buttonEl =\n",
              "        document.querySelector('#df-3027c850-526d-4ffd-9fd7-c97ca8250463 button.colab-df-convert');\n",
              "      buttonEl.style.display =\n",
              "        google.colab.kernel.accessAllowed ? 'block' : 'none';\n",
              "\n",
              "      async function convertToInteractive(key) {\n",
              "        const element = document.querySelector('#df-3027c850-526d-4ffd-9fd7-c97ca8250463');\n",
              "        const dataTable =\n",
              "          await google.colab.kernel.invokeFunction('convertToInteractive',\n",
              "                                                    [key], {});\n",
              "        if (!dataTable) return;\n",
              "\n",
              "        const docLinkHtml = 'Like what you see? Visit the ' +\n",
              "          '<a target=\"_blank\" href=https://colab.research.google.com/notebooks/data_table.ipynb>data table notebook</a>'\n",
              "          + ' to learn more about interactive tables.';\n",
              "        element.innerHTML = '';\n",
              "        dataTable['output_type'] = 'display_data';\n",
              "        await google.colab.output.renderOutput(dataTable, element);\n",
              "        const docLink = document.createElement('div');\n",
              "        docLink.innerHTML = docLinkHtml;\n",
              "        element.appendChild(docLink);\n",
              "      }\n",
              "    </script>\n",
              "  </div>\n",
              "\n",
              "\n",
              "<div id=\"df-77683f00-4d9a-4f93-8aeb-178857de5323\">\n",
              "  <button class=\"colab-df-quickchart\" onclick=\"quickchart('df-77683f00-4d9a-4f93-8aeb-178857de5323')\"\n",
              "            title=\"Suggest charts\"\n",
              "            style=\"display:none;\">\n",
              "\n",
              "<svg xmlns=\"http://www.w3.org/2000/svg\" height=\"24px\"viewBox=\"0 0 24 24\"\n",
              "     width=\"24px\">\n",
              "    <g>\n",
              "        <path d=\"M19 3H5c-1.1 0-2 .9-2 2v14c0 1.1.9 2 2 2h14c1.1 0 2-.9 2-2V5c0-1.1-.9-2-2-2zM9 17H7v-7h2v7zm4 0h-2V7h2v10zm4 0h-2v-4h2v4z\"/>\n",
              "    </g>\n",
              "</svg>\n",
              "  </button>\n",
              "\n",
              "<style>\n",
              "  .colab-df-quickchart {\n",
              "      --bg-color: #E8F0FE;\n",
              "      --fill-color: #1967D2;\n",
              "      --hover-bg-color: #E2EBFA;\n",
              "      --hover-fill-color: #174EA6;\n",
              "      --disabled-fill-color: #AAA;\n",
              "      --disabled-bg-color: #DDD;\n",
              "  }\n",
              "\n",
              "  [theme=dark] .colab-df-quickchart {\n",
              "      --bg-color: #3B4455;\n",
              "      --fill-color: #D2E3FC;\n",
              "      --hover-bg-color: #434B5C;\n",
              "      --hover-fill-color: #FFFFFF;\n",
              "      --disabled-bg-color: #3B4455;\n",
              "      --disabled-fill-color: #666;\n",
              "  }\n",
              "\n",
              "  .colab-df-quickchart {\n",
              "    background-color: var(--bg-color);\n",
              "    border: none;\n",
              "    border-radius: 50%;\n",
              "    cursor: pointer;\n",
              "    display: none;\n",
              "    fill: var(--fill-color);\n",
              "    height: 32px;\n",
              "    padding: 0;\n",
              "    width: 32px;\n",
              "  }\n",
              "\n",
              "  .colab-df-quickchart:hover {\n",
              "    background-color: var(--hover-bg-color);\n",
              "    box-shadow: 0 1px 2px rgba(60, 64, 67, 0.3), 0 1px 3px 1px rgba(60, 64, 67, 0.15);\n",
              "    fill: var(--button-hover-fill-color);\n",
              "  }\n",
              "\n",
              "  .colab-df-quickchart-complete:disabled,\n",
              "  .colab-df-quickchart-complete:disabled:hover {\n",
              "    background-color: var(--disabled-bg-color);\n",
              "    fill: var(--disabled-fill-color);\n",
              "    box-shadow: none;\n",
              "  }\n",
              "\n",
              "  .colab-df-spinner {\n",
              "    border: 2px solid var(--fill-color);\n",
              "    border-color: transparent;\n",
              "    border-bottom-color: var(--fill-color);\n",
              "    animation:\n",
              "      spin 1s steps(1) infinite;\n",
              "  }\n",
              "\n",
              "  @keyframes spin {\n",
              "    0% {\n",
              "      border-color: transparent;\n",
              "      border-bottom-color: var(--fill-color);\n",
              "      border-left-color: var(--fill-color);\n",
              "    }\n",
              "    20% {\n",
              "      border-color: transparent;\n",
              "      border-left-color: var(--fill-color);\n",
              "      border-top-color: var(--fill-color);\n",
              "    }\n",
              "    30% {\n",
              "      border-color: transparent;\n",
              "      border-left-color: var(--fill-color);\n",
              "      border-top-color: var(--fill-color);\n",
              "      border-right-color: var(--fill-color);\n",
              "    }\n",
              "    40% {\n",
              "      border-color: transparent;\n",
              "      border-right-color: var(--fill-color);\n",
              "      border-top-color: var(--fill-color);\n",
              "    }\n",
              "    60% {\n",
              "      border-color: transparent;\n",
              "      border-right-color: var(--fill-color);\n",
              "    }\n",
              "    80% {\n",
              "      border-color: transparent;\n",
              "      border-right-color: var(--fill-color);\n",
              "      border-bottom-color: var(--fill-color);\n",
              "    }\n",
              "    90% {\n",
              "      border-color: transparent;\n",
              "      border-bottom-color: var(--fill-color);\n",
              "    }\n",
              "  }\n",
              "</style>\n",
              "\n",
              "  <script>\n",
              "    async function quickchart(key) {\n",
              "      const quickchartButtonEl =\n",
              "        document.querySelector('#' + key + ' button');\n",
              "      quickchartButtonEl.disabled = true;  // To prevent multiple clicks.\n",
              "      quickchartButtonEl.classList.add('colab-df-spinner');\n",
              "      try {\n",
              "        const charts = await google.colab.kernel.invokeFunction(\n",
              "            'suggestCharts', [key], {});\n",
              "      } catch (error) {\n",
              "        console.error('Error during call to suggestCharts:', error);\n",
              "      }\n",
              "      quickchartButtonEl.classList.remove('colab-df-spinner');\n",
              "      quickchartButtonEl.classList.add('colab-df-quickchart-complete');\n",
              "    }\n",
              "    (() => {\n",
              "      let quickchartButtonEl =\n",
              "        document.querySelector('#df-77683f00-4d9a-4f93-8aeb-178857de5323 button');\n",
              "      quickchartButtonEl.style.display =\n",
              "        google.colab.kernel.accessAllowed ? 'block' : 'none';\n",
              "    })();\n",
              "  </script>\n",
              "</div>\n",
              "\n",
              "    </div>\n",
              "  </div>\n"
            ]
          },
          "metadata": {},
          "execution_count": 13
        }
      ]
    },
    {
      "cell_type": "code",
      "source": [
        "y_train, y_test = jnp.array(data[:80], dtype=jnp.float32), data[80:]"
      ],
      "metadata": {
        "id": "YzKfRG-O0eru"
      },
      "execution_count": 14,
      "outputs": []
    },
    {
      "cell_type": "markdown",
      "source": [
        "\n",
        "\n",
        "---\n",
        "\n"
      ],
      "metadata": {
        "id": "qtM-HYGC0g9U"
      }
    },
    {
      "cell_type": "markdown",
      "source": [
        "The model we are going to use is called **Seasonal, Global Trend**, which when tested on 3003 time series of the [M-3 competition](https://forecasters.org/resources/time-series-data/m3-competition/), has been known to outperform other models originally participating in the competition:\n",
        "\n",
        "\\begin{align}\n",
        "\\text{exp-val}_{t} &= \\text{level}_{t-1} + \\text{coef-trend} \\times \\text{level}_{t-1}^{\\text{pow-trend}} + \\text{s}_t \\times \\text{level}_{t-1}^{\\text{pow-season}}, \\\\\n",
        "\\sigma_{t} &= \\sigma \\times \\text{exp-val}_{t}^{\\text{powx}} + \\text{offset}, \\\\\n",
        "y_{t} &\\sim \\text{StudentT}(\\nu, \\text{exp-val}_{t}, \\sigma_{t})\n",
        "\\end{align}\n",
        "\n",
        ", where `level` and `s` follows the following recursion rules:\n",
        "\n",
        "\\begin{align}\n",
        "\\text{level-p} &=\n",
        "\\begin{cases}\n",
        "y_t - \\text{s}_t \\times \\text{level}_{t-1}^{\\text{pow-season}} & \\text{if } t \\le \\text{seasonality}, \\\\\n",
        "\\text{Average} \\left[y(t - \\text{seasonality} + 1), \\ldots, y(t)\\right] & \\text{otherwise},\n",
        "\\end{cases} \\\\\n",
        "\\text{level}_{t} &= \\text{level-sm} \\times \\text{level-p} + (1 - \\text{level-sm}) \\times \\text{level}_{t-1}, \\\\\n",
        "\\text{s}_{t + \\text{seasonality}} &= \\text{s-sm} \\times \\frac{y_{t} - \\text{level}_{t}}{\\text{level}_{t-1}^{\\text{pow-trend}}}\n",
        "+ (1 - \\text{s-sm}) \\times \\text{s}_{t}.\n",
        "\\end{align}"
      ],
      "metadata": {
        "id": "nfa7XMiF2mEd"
      }
    },
    {
      "cell_type": "markdown",
      "source": [
        "![image.png](data:image/png;base64,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)"
      ],
      "metadata": {
        "id": "HbDMkxMz2qYN"
      }
    },
    {
      "cell_type": "markdown",
      "source": [
        "\n",
        "\n",
        "---\n",
        "\n"
      ],
      "metadata": {
        "id": "CAvfz-pdP_Op"
      }
    },
    {
      "cell_type": "code",
      "source": [
        "def sgt(y, seasonality, future=0):\n",
        "    # heuristically, standard derivation of Cauchy prior depends on\n",
        "    # the max value of data\n",
        "    cauchy_sd = jnp.max(y) / 150\n",
        "\n",
        "    # NB: priors' parameters are taken from\n",
        "    # https://github.com/cbergmeir/Rlgt/blob/master/Rlgt/R/rlgtcontrol.R\n",
        "    nu = numpyro.sample(\"nu\", dist.Uniform(2, 20))\n",
        "    powx = numpyro.sample(\"powx\", dist.Uniform(0, 1))\n",
        "    sigma = numpyro.sample(\"sigma\", dist.HalfCauchy(cauchy_sd))\n",
        "    offset_sigma = numpyro.sample(\n",
        "        \"offset_sigma\", dist.TruncatedCauchy(low=1e-10, loc=1e-10, scale=cauchy_sd)\n",
        "    )\n",
        "\n",
        "    coef_trend = numpyro.sample(\"coef_trend\", dist.Cauchy(0, cauchy_sd))\n",
        "    pow_trend_beta = numpyro.sample(\"pow_trend_beta\", dist.Beta(1, 1))\n",
        "    # pow_trend takes values from -0.5 to 1\n",
        "    pow_trend = 1.5 * pow_trend_beta - 0.5\n",
        "    pow_season = numpyro.sample(\"pow_season\", dist.Beta(1, 1))\n",
        "\n",
        "    level_sm = numpyro.sample(\"level_sm\", dist.Beta(1, 2))\n",
        "    s_sm = numpyro.sample(\"s_sm\", dist.Uniform(0, 1))\n",
        "\n",
        "    init_s = numpyro.sample(\"init_s\", dist.Cauchy(0, y[:seasonality] * 0.3))\n",
        "\n",
        "    def transition_fn(carry, t):\n",
        "        level, s, moving_sum = carry\n",
        "        season = s[0] * level**pow_season\n",
        "        exp_val = level + coef_trend * level**pow_trend + season\n",
        "        exp_val = jnp.clip(exp_val, a_min=0)\n",
        "        # use expected vale when forecasting\n",
        "        y_t = jnp.where(t >= N, exp_val, y[t])\n",
        "\n",
        "        moving_sum = (\n",
        "            moving_sum + y[t] - jnp.where(t >= seasonality, y[t - seasonality], 0.0)\n",
        "        )\n",
        "        level_p = jnp.where(t >= seasonality, moving_sum / seasonality, y_t - season)\n",
        "        level = level_sm * level_p + (1 - level_sm) * level\n",
        "        level = jnp.clip(level, a_min=0)\n",
        "\n",
        "        new_s = (s_sm * (y_t - level) / season + (1 - s_sm)) * s[0]\n",
        "        # repeat s when forecasting\n",
        "        new_s = jnp.where(t >= N, s[0], new_s)\n",
        "        s = jnp.concatenate([s[1:], new_s[None]], axis=0)\n",
        "\n",
        "        omega = sigma * exp_val**powx + offset_sigma\n",
        "        y_ = numpyro.sample(\"y\", dist.StudentT(nu, exp_val, omega))\n",
        "\n",
        "        return (level, s, moving_sum), y_\n",
        "\n",
        "    N = y.shape[0]\n",
        "    level_init = y[0]\n",
        "    s_init = jnp.concatenate([init_s[1:], init_s[:1]], axis=0)\n",
        "    moving_sum = level_init\n",
        "\n",
        "    with numpyro.handlers.condition(data={\"y\": y[1:]}):\n",
        "        _, ys = scan(\n",
        "            transition_fn, (level_init, s_init, moving_sum), jnp.arange(1, N + future)\n",
        "        )\n",
        "    if future > 0:\n",
        "        numpyro.deterministic(\"y_forecast\", ys[-future:])"
      ],
      "metadata": {
        "id": "lTR3C4St2dCv"
      },
      "execution_count": 15,
      "outputs": []
    },
    {
      "cell_type": "markdown",
      "source": [
        "Note that `level` and `s` are updated recursively while we collect the expected value at each time step. NumPyro uses [JAX](https://github.com/google/jax) in the backend to JIT compile many critical parts of the NUTS algorithm, including the verlet integrator and the tree building process. However, doing so using Python's `for` loop in the model will result in a long compilation time for the model, so we use `scan` - which is a wrapper of [lax.scan](https://jax.readthedocs.io/en/latest/_autosummary/jax.lax.scan.html#jax.lax.scan) with supports for NumPyro primitives and handlers. A detailed explanation for using this utility can be found in [NumPyro documentation](http://num.pyro.ai/en/latest/primitives.html#scan). Here we use it to collect `y` values while the triple `(level, s, moving_sum)` plays the role of carrying state."
      ],
      "metadata": {
        "id": "n4McZdf7owbt"
      }
    },
    {
      "cell_type": "markdown",
      "source": [
        "Another note is that instead of declaring the observation site `y` in `transition_fn`\n",
        "\n",
        "```python\n",
        "numpyro.sample(\"y\", dist.StudentT(nu, exp_val, omega), obs=y[t])\n",
        "```\n",
        "\n",
        ", we have used [condition](http://num.pyro.ai/en/stable/handlers.html#numpyro.handlers.condition) handler here. The reason is we also want to use this model for forecasting. In forecasting, future values of `y` are non-observable, so `obs=y[t]` does not make sense when `t >= len(y)` (caution: index out-of-bound errors do not get raised in JAX, e.g. `jnp.arange(3)[10] == 2`). Using `condition`, when the length of `scan` is larger than the length of the conditioned/observed site, unobserved values will be sampled from the distribution of that site."
      ],
      "metadata": {
        "id": "0_PsMWfotoBu"
      }
    },
    {
      "cell_type": "code",
      "source": [
        "# scan(f, init, xs, length=None, reverse=False, history=1)[source]¶\n",
        "# This primitive scans a function over the leading array axes of xs\n",
        "# while carrying along state. See jax.lax.scan() for more information.\n",
        "\n",
        "#Usage:\n",
        "\n",
        "import numpy as np\n",
        "import numpyro\n",
        "import numpyro.distributions as dist\n",
        "from numpyro.contrib.control_flow import scan\n",
        "\n",
        "def gaussian_hmm(y=None, T=10):\n",
        "    def transition(x_prev, y_curr):\n",
        "        x_curr = numpyro.sample('x', dist.Normal(x_prev, 1))\n",
        "        y_curr = numpyro.sample('y', dist.Normal(x_curr, 1), obs=y_curr)\n",
        "        return x_curr, (x_curr, y_curr)\n",
        "\n",
        "    x0 = numpyro.sample('x_0', dist.Normal(0, 1))\n",
        "    _, (x, y) = scan(transition, x0, y, length=T)\n",
        "    return (x, y)\n",
        "\n",
        "# here we do some quick tests\n",
        "with numpyro.handlers.seed(rng_seed=0):\n",
        "    x, y = gaussian_hmm(np.arange(10.))\n",
        "assert x.shape == (10,) and y.shape == (10,)\n",
        "assert np.all(y == np.arange(10))\n",
        "\n",
        "with numpyro.handlers.seed(rng_seed=0):  # generative\n",
        "    x, y = gaussian_hmm()\n",
        "assert x.shape == (10,) and y.shape == (10,)"
      ],
      "metadata": {
        "id": "iXPbBDxUvu82"
      },
      "execution_count": 16,
      "outputs": []
    },
    {
      "cell_type": "code",
      "source": [
        "print(\"Lag values sorted according to their autocorrelation values:\\n\")\n",
        "print(jnp.argsort(autocorrelation(y_train))[::-1])"
      ],
      "metadata": {
        "id": "50CkQPIFjLZG",
        "outputId": "efe6fd87-aa35-4182-9d46-84f6bd893101",
        "colab": {
          "base_uri": "https://localhost:8080/"
        }
      },
      "execution_count": 17,
      "outputs": [
        {
          "output_type": "stream",
          "name": "stdout",
          "text": [
            "Lag values sorted according to their autocorrelation values:\n",
            "\n",
            "[ 0 67 57 38 68  1 29 58 37 56 28 10 19 39 66 78 47 77  9 79 48 76 30 18\n",
            " 20 11 46 59 69 27 55 36  2  8 40 49 17 21 75 12 65 45 31 26  7 54 35 41\n",
            " 50  3 22 60 70 16 44 13  6 25 74 53 42 32 23 43 51  4 15 14 34 24  5 52\n",
            " 73 64 33 71 72 61 63 62]\n"
          ]
        }
      ]
    },
    {
      "cell_type": "code",
      "source": [
        "%%time\n",
        "kernel = NUTS(sgt)\n",
        "mcmc = MCMC(kernel, num_warmup=1000, num_samples=1000, num_chains=1)\n",
        "mcmc.run(random.PRNGKey(0), y_train, seasonality=38)\n",
        "mcmc.print_summary()\n",
        "samples = mcmc.get_samples()"
      ],
      "metadata": {
        "id": "YLwIiyspov1n",
        "outputId": "9398238b-41f4-4230-845c-6705ef0ebbdb",
        "colab": {
          "base_uri": "https://localhost:8080/"
        }
      },
      "execution_count": 18,
      "outputs": [
        {
          "output_type": "stream",
          "name": "stderr",
          "text": [
            "sample: 100%|██████████| 2000/2000 [15:46<00:00,  2.11it/s, 127 steps of size 3.06e-02. acc. prob=0.82]\n"
          ]
        },
        {
          "output_type": "stream",
          "name": "stdout",
          "text": [
            "\n",
            "                      mean       std    median      5.0%     95.0%     n_eff     r_hat\n",
            "      coef_trend     19.25     74.77      0.81    -56.43    134.21     79.05      1.01\n",
            "       init_s[0]     13.09    189.97     29.13   -250.04    274.20     24.47      1.24\n",
            "       init_s[1]    -32.54     71.17    -35.78   -144.49     80.96     83.48      1.02\n",
            "       init_s[2]     31.41    137.12     17.17   -219.75    251.94     14.48      1.00\n",
            "       init_s[3]    103.36    217.39     91.24   -267.88    511.39     11.86      1.01\n",
            "       init_s[4]    282.23    346.44    289.37   -346.42    790.45      6.76      1.39\n",
            "       init_s[5]    960.15    579.35    979.78    -48.04   1786.38      8.34      1.25\n",
            "       init_s[6]   1732.19    841.24   1689.82    391.64   3046.16      7.29      1.25\n",
            "       init_s[7]   3725.76   1252.97   3620.58   1881.02   5780.47     14.12      1.01\n",
            "       init_s[8]   2331.36    913.78   2189.04    833.86   3703.12     24.59      1.27\n",
            "       init_s[9]    659.17    738.33    703.33   -651.41   1724.85      7.05      1.24\n",
            "      init_s[10]     -3.90    181.80      7.83   -232.67    282.94     65.27      1.08\n",
            "      init_s[11]    -15.63     81.31     -4.78   -126.77     87.49     48.49      1.05\n",
            "      init_s[12]    -40.54    111.25    -16.01   -174.17    110.99     54.33      1.09\n",
            "      init_s[13]     16.88    125.87      6.99   -167.96    205.37     13.78      1.32\n",
            "      init_s[14]    142.18    252.76     70.62   -215.35    517.69      7.11      1.64\n",
            "      init_s[15]    809.13    370.08    782.49    245.64   1378.63     16.86      1.31\n",
            "      init_s[16]   1109.54    639.42   1124.10    -13.70   1868.26      8.63      1.17\n",
            "      init_s[17]   1133.36    604.55   1132.92     51.94   1985.34      9.74      1.26\n",
            "      init_s[18]    389.98    464.43    401.04   -340.43   1147.17     15.43      1.32\n",
            "      init_s[19]    -17.72    210.25     -9.51   -287.08    276.87    109.57      1.04\n",
            "      init_s[20]    -45.51    161.06    -18.08   -184.29    116.42     71.44      1.01\n",
            "      init_s[21]    -52.93     90.75    -13.10   -262.28     22.52      7.85      1.11\n",
            "      init_s[22]     -2.69     47.47     -0.49    -66.44     73.58     85.32      1.01\n",
            "      init_s[23]     22.29     75.83     11.96    -96.02    140.05     63.09      1.10\n",
            "      init_s[24]    390.73    511.16    250.63   -244.66   1067.98     11.79      1.58\n",
            "      init_s[25]    670.43    504.91    572.71      6.87   1483.60      7.75      1.55\n",
            "      init_s[26]   1274.24    757.99   1180.61    123.76   2402.94      9.05      1.68\n",
            "      init_s[27]   1107.57    537.05   1064.55    277.34   2072.54     20.20      1.22\n",
            "      init_s[28]     17.00    331.39     72.06   -625.21    511.11      6.20      1.55\n",
            "      init_s[29]   -176.22    344.45    -62.16   -789.20    239.38     11.21      1.32\n",
            "      init_s[30]    -97.83    299.08    -24.97   -369.73    335.01     27.94      1.11\n",
            "      init_s[31]    -25.43    109.18    -18.91   -210.46    137.87     48.99      1.01\n",
            "      init_s[32]    -30.27     86.31    -31.06   -159.56    107.31     74.56      1.07\n",
            "      init_s[33]     57.62    153.31     46.84   -215.17    282.33     42.50      1.15\n",
            "      init_s[34]    444.84    322.57    397.51      3.37    990.33     83.22      1.10\n",
            "      init_s[35]   1172.73    690.22   1082.81    249.03   2455.91     12.85      1.00\n",
            "      init_s[36]   1663.85    699.29   1651.72    483.33   2675.02     24.47      1.18\n",
            "      init_s[37]   1193.26    695.24   1141.72    -48.41   2171.66     13.21      1.37\n",
            "        level_sm      0.28      0.34      0.01      0.00      0.81      2.90      2.16\n",
            "              nu     12.79      4.46     13.56      5.95     19.82     95.43      1.09\n",
            "    offset_sigma     33.91     33.93     25.87      0.03     71.59    224.88      1.00\n",
            "      pow_season      0.05      0.04      0.04      0.00      0.11      5.56      1.59\n",
            "  pow_trend_beta      0.30      0.21      0.26      0.00      0.66     18.31      1.05\n",
            "            powx      0.61      0.13      0.61      0.38      0.80     83.57      1.01\n",
            "            s_sm      0.50      0.42      0.50      0.00      0.97      2.82      5.93\n",
            "           sigma     12.97     13.35      7.75      0.66     31.85     30.72      1.09\n",
            "\n",
            "Number of divergences: 546\n",
            "CPU times: user 15min 47s, sys: 2.29 s, total: 15min 50s\n",
            "Wall time: 16min 2s\n"
          ]
        }
      ]
    },
    {
      "cell_type": "code",
      "source": [
        "predictive = Predictive(sgt, samples, return_sites=[\"y_forecast\"])\n",
        "forecast_marginal = predictive(random.PRNGKey(1), y_train, seasonality=38, future=34)[\n",
        "    \"y_forecast\"\n",
        "]"
      ],
      "metadata": {
        "id": "qxmGvQbxo7Af"
      },
      "execution_count": 19,
      "outputs": []
    },
    {
      "cell_type": "code",
      "source": [
        "y_pred = jnp.mean(forecast_marginal, axis=0)\n",
        "sMAPE = jnp.mean(jnp.abs(y_pred - y_test) / (y_pred + y_test)) * 200\n",
        "msqrt = jnp.sqrt(jnp.mean((y_pred - y_test) ** 2))\n",
        "print(\"sMAPE: {:.2f}, rmse: {:.2f}\".format(sMAPE, msqrt))"
      ],
      "metadata": {
        "colab": {
          "base_uri": "https://localhost:8080/"
        },
        "id": "A3MTLcPuoLaX",
        "outputId": "32546297-85d7-43ac-86f0-c6e30158f1c0"
      },
      "execution_count": 20,
      "outputs": [
        {
          "output_type": "stream",
          "name": "stdout",
          "text": [
            "sMAPE: 78.49, rmse: 1427.03\n"
          ]
        }
      ]
    },
    {
      "cell_type": "code",
      "source": [
        "plt.figure(figsize=(8, 4))\n",
        "plt.plot(lynx[\"time\"], data)\n",
        "t_future = lynx[\"time\"][80:]\n",
        "hpd_low, hpd_high = hpdi(forecast_marginal)\n",
        "plt.plot(t_future, y_pred, lw=2)\n",
        "plt.fill_between(t_future, hpd_low, hpd_high, alpha=0.3)\n",
        "plt.title(\"Forecasting lynx dataset with SGT model (90% HPDI)\")\n",
        "plt.show()"
      ],
      "metadata": {
        "colab": {
          "base_uri": "https://localhost:8080/",
          "height": 391
        },
        "id": "Qx3S__nvoWhX",
        "outputId": "13b9a832-c82c-427c-d0d5-03fdedaaa0a8"
      },
      "execution_count": 21,
      "outputs": [
        {
          "output_type": "display_data",
          "data": {
            "text/plain": [
              "<Figure size 800x400 with 1 Axes>"
            ],
            "image/png": "[encoded data removed]"
          },
          "metadata": {}
        }
      ]
    },
    {
      "cell_type": "code",
      "source": [],
      "metadata": {
        "id": "_9qR0YJqoa39"
      },
      "execution_count": null,
      "outputs": []
    }
  ]
}