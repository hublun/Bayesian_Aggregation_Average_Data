{
  "cells": [
    {
      "cell_type": "markdown",
      "metadata": {
        "colab_type": "text",
        "id": "view-in-github"
      },
      "source": [
        "<a href=\"https://colab.research.google.com/github/hublun/Bayesian_Aggregation_Average_Data/blob/master/ODR_2024_1_22.ipynb\" target=\"_parent\"><img src=\"https://colab.research.google.com/assets/colab-badge.svg\" alt=\"Open In Colab\"/></a>"
      ]
    },
    {
      "cell_type": "markdown",
      "metadata": {
        "id": "PnyppYsflC7Y"
      },
      "source": []
    },
    {
      "cell_type": "markdown",
      "metadata": {
        "id": "dOxNKQ3hlNC3"
      },
      "source": [
        "## [ODE Based Models in Stan](https://mc-stan.org/events/stancon2017-notebooks/stancon2017-margossian-gillespie-ode.html)\n",
        "\n",
        "#### [Example: simple harmonic oscillator](https://mc-stan.org/docs/stan-users-guide/example-simple-harmonic-oscillator.html#example-simple-harmonic-oscillator)"
      ]
    },
    {
      "cell_type": "markdown",
      "metadata": {
        "id": "5-_qUPWsma8A"
      },
      "source": [
        "#### [Bayesian workflow for disease transmission modeling in Stan](https://mc-stan.org/users/documentation/case-studies/boarding_school_case_study.html)"
      ]
    },
    {
      "cell_type": "markdown",
      "metadata": {
        "id": "fyw0KYdenB2w"
      },
      "source": [
        "#### [ Ordinary differential equation (ODE) solvers](https://mc-stan.org/docs/functions-reference/functions-ode-solver.html#functions-ode-solver)\n"
      ]
    },
    {
      "cell_type": "code",
      "execution_count": 1,
      "metadata": {
        "colab": {
          "base_uri": "https://localhost:8080/"
        },
        "id": "sxaow9plT1xq",
        "outputId": "185bf571-c855-44db-ba80-c6d1268e23fe",
        "vscode": {
          "languageId": "r"
        }
      },
      "outputs": [
        {
          "name": "stderr",
          "output_type": "stream",
          "text": [
            "Installing package into ‘/usr/local/lib/R/site-library’\n",
            "(as ‘lib’ is unspecified)\n",
            "\n",
            "also installing the dependencies ‘checkmate’, ‘matrixStats’, ‘StanHeaders’, ‘inline’, ‘gridExtra’, ‘Rcpp’, ‘RcppParallel’, ‘loo’, ‘QuickJSR’, ‘RcppEigen’, ‘BH’\n",
            "\n",
            "\n"
          ]
        }
      ],
      "source": [
        "install.packages(\"rstan\", repos = c(\"https://mc-stan.org/r-packages/\", getOption(\"repos\")))"
      ]
    },
    {
      "cell_type": "code",
      "execution_count": 5,
      "metadata": {
        "colab": {
          "base_uri": "https://localhost:8080/"
        },
        "id": "q-v04uo5TU44",
        "outputId": "5815da16-2dd2-4e21-fe0c-baf6fa961401",
        "vscode": {
          "languageId": "r"
        }
      },
      "outputs": [],
      "source": [
        "library(rstan)"
      ]
    },
    {
      "cell_type": "code",
      "execution_count": 2,
      "metadata": {
        "colab": {
          "base_uri": "https://localhost:8080/",
          "height": 34
        },
        "id": "ATHOrLQ3VzY5",
        "outputId": "b499cb4c-84da-4280-d01c-7c965114e9e1",
        "vscode": {
          "languageId": "r"
        }
      },
      "outputs": [
        {
          "data": {
            "text/html": [
              "8"
            ],
            "text/latex": [
              "8"
            ],
            "text/markdown": [
              "8"
            ],
            "text/plain": [
              "[1] 8"
            ]
          },
          "metadata": {},
          "output_type": "display_data"
        }
      ],
      "source": [
        "parallel::detectCores()"
      ]
    },
    {
      "cell_type": "code",
      "execution_count": 4,
      "metadata": {
        "colab": {
          "base_uri": "https://localhost:8080/"
        },
        "id": "0DL8-O5-ksOT",
        "outputId": "e774cd7e-359d-4c96-b5f0-ad667206689c",
        "vscode": {
          "languageId": "r"
        }
      },
      "outputs": [],
      "source": [
        "#example(stan_model, package = \"rstan\", run.dontrun = TRUE)"
      ]
    },
    {
      "cell_type": "code",
      "execution_count": 9,
      "metadata": {
        "vscode": {
          "languageId": "r"
        }
      },
      "outputs": [
        {
          "name": "stderr",
          "output_type": "stream",
          "text": [
            "Installing package into ‘/home/dulunche/R/x86_64-pc-linux-gnu-library/4.3’\n",
            "(as ‘lib’ is unspecified)\n",
            "\n",
            "also installing the dependencies ‘svUnit’, ‘ggdist’, ‘coda’, ‘arrayhelpers’\n",
            "\n",
            "\n"
          ]
        }
      ],
      "source": [
        "install.packages('tidybayes')"
      ]
    },
    {
      "cell_type": "markdown",
      "metadata": {
        "id": "ZC1M16gFk9Ka"
      },
      "source": [
        "\n",
        "\n",
        "---\n",
        "\n"
      ]
    },
    {
      "cell_type": "markdown",
      "metadata": {},
      "source": [
        "## COVID-19 transmission in Switzerland"
      ]
    },
    {
      "cell_type": "markdown",
      "metadata": {},
      "source": [
        "#### To illustrate the ideas presented in this tutorial, we are going to tackle a more complex example: COVID-19 transmission in Switzerland during the period from February 2020 to June 2020. We’ll see that in this more complicated setting, sampling from the posterior distribution can be difficult, and we’ll need to rely on Stan’s diagnostics to check that our inference is reliable."
      ]
    },
    {
      "cell_type": "code",
      "execution_count": 13,
      "metadata": {
        "vscode": {
          "languageId": "r"
        }
      },
      "outputs": [
        {
          "name": "stderr",
          "output_type": "stream",
          "text": [
            "\u001b[1mRows: \u001b[22m\u001b[34m132\u001b[39m \u001b[1mColumns: \u001b[22m\u001b[34m9\u001b[39m\n",
            "\u001b[36m──\u001b[39m \u001b[1mColumn specification\u001b[22m \u001b[36m────────────────────────────────────────────────────────\u001b[39m\n",
            "\u001b[1mDelimiter:\u001b[22m \",\"\n",
            "\u001b[32mdbl\u001b[39m  (8): onset_dt, test_dt, report_dt, hospit_dt, death_dt, death_dt_hospit...\n",
            "\u001b[34mdate\u001b[39m (1): date\n",
            "\n",
            "\u001b[36mℹ\u001b[39m Use `spec()` to retrieve the full column specification for this data.\n",
            "\u001b[36mℹ\u001b[39m Specify the column types or set `show_col_types = FALSE` to quiet this message.\n"
          ]
        }
      ],
      "source": [
        "library(tidybayes)\n",
        "library(tidyverse)\n",
        "library(gridExtra)\n",
        "df_swiss <- read_csv(\"./disease_transmission_workflow/data/swiss_agg_data.csv\")"
      ]
    },
    {
      "cell_type": "code",
      "execution_count": 14,
      "metadata": {
        "vscode": {
          "languageId": "r"
        }
      },
      "outputs": [
        {
          "data": {
            "text/html": [
              "<table class=\"dataframe\">\n",
              "<caption>A spec_tbl_df: 132 × 9</caption>\n",
              "<thead>\n",
              "\t<tr><th scope=col>date</th><th scope=col>onset_dt</th><th scope=col>test_dt</th><th scope=col>report_dt</th><th scope=col>hospit_dt</th><th scope=col>death_dt</th><th scope=col>death_dt_hospit</th><th scope=col>death_dt_nohospit</th><th scope=col>total_tested</th></tr>\n",
              "\t<tr><th scope=col>&lt;date&gt;</th><th scope=col>&lt;dbl&gt;</th><th scope=col>&lt;dbl&gt;</th><th scope=col>&lt;dbl&gt;</th><th scope=col>&lt;dbl&gt;</th><th scope=col>&lt;dbl&gt;</th><th scope=col>&lt;dbl&gt;</th><th scope=col>&lt;dbl&gt;</th><th scope=col>&lt;dbl&gt;</th></tr>\n",
              "</thead>\n",
              "<tbody>\n",
              "\t<tr><td>2020-01-30</td><td> 1</td><td> 0</td><td> 0</td><td> 1</td><td>0</td><td>0</td><td>0</td><td> 40</td></tr>\n",
              "\t<tr><td>2020-01-31</td><td> 0</td><td> 0</td><td> 0</td><td> 2</td><td>0</td><td>0</td><td>0</td><td> 32</td></tr>\n",
              "\t<tr><td>2020-02-01</td><td> 3</td><td> 0</td><td> 0</td><td> 2</td><td>0</td><td>0</td><td>0</td><td> 19</td></tr>\n",
              "\t<tr><td>2020-02-02</td><td> 1</td><td> 0</td><td> 0</td><td> 0</td><td>0</td><td>0</td><td>0</td><td> 11</td></tr>\n",
              "\t<tr><td>2020-02-03</td><td> 1</td><td> 0</td><td> 0</td><td> 2</td><td>0</td><td>0</td><td>0</td><td> 14</td></tr>\n",
              "\t<tr><td>2020-02-04</td><td> 2</td><td> 0</td><td> 0</td><td> 2</td><td>0</td><td>0</td><td>0</td><td> 26</td></tr>\n",
              "\t<tr><td>2020-02-05</td><td> 0</td><td> 0</td><td> 0</td><td> 1</td><td>0</td><td>0</td><td>0</td><td> 28</td></tr>\n",
              "\t<tr><td>2020-02-06</td><td> 0</td><td> 0</td><td> 0</td><td> 1</td><td>0</td><td>0</td><td>0</td><td> 13</td></tr>\n",
              "\t<tr><td>2020-02-07</td><td> 2</td><td> 0</td><td> 0</td><td> 1</td><td>0</td><td>0</td><td>0</td><td> 15</td></tr>\n",
              "\t<tr><td>2020-02-09</td><td> 0</td><td> 0</td><td> 0</td><td> 1</td><td>0</td><td>0</td><td>0</td><td>  9</td></tr>\n",
              "\t<tr><td>2020-02-10</td><td> 0</td><td> 0</td><td> 0</td><td> 2</td><td>0</td><td>0</td><td>0</td><td> 13</td></tr>\n",
              "\t<tr><td>2020-02-11</td><td> 1</td><td> 0</td><td> 0</td><td> 3</td><td>0</td><td>0</td><td>0</td><td> 22</td></tr>\n",
              "\t<tr><td>2020-02-12</td><td> 0</td><td> 0</td><td> 0</td><td> 1</td><td>0</td><td>0</td><td>0</td><td> 20</td></tr>\n",
              "\t<tr><td>2020-02-13</td><td> 2</td><td> 0</td><td> 0</td><td> 1</td><td>0</td><td>0</td><td>0</td><td>  7</td></tr>\n",
              "\t<tr><td>2020-02-14</td><td> 2</td><td> 0</td><td> 0</td><td> 3</td><td>0</td><td>0</td><td>0</td><td>  9</td></tr>\n",
              "\t<tr><td>2020-02-15</td><td> 4</td><td> 0</td><td> 0</td><td> 2</td><td>0</td><td>0</td><td>0</td><td>  5</td></tr>\n",
              "\t<tr><td>2020-02-17</td><td> 2</td><td> 0</td><td> 0</td><td> 3</td><td>0</td><td>0</td><td>0</td><td>  0</td></tr>\n",
              "\t<tr><td>2020-02-18</td><td> 2</td><td> 0</td><td> 0</td><td> 3</td><td>0</td><td>0</td><td>0</td><td>  9</td></tr>\n",
              "\t<tr><td>2020-02-19</td><td> 1</td><td> 0</td><td> 0</td><td> 5</td><td>0</td><td>0</td><td>0</td><td> 14</td></tr>\n",
              "\t<tr><td>2020-02-20</td><td> 7</td><td> 0</td><td> 0</td><td> 3</td><td>0</td><td>0</td><td>0</td><td> 10</td></tr>\n",
              "\t<tr><td>2020-02-21</td><td> 5</td><td> 0</td><td> 0</td><td> 5</td><td>0</td><td>0</td><td>0</td><td> 14</td></tr>\n",
              "\t<tr><td>2020-02-22</td><td> 3</td><td> 0</td><td> 0</td><td> 2</td><td>0</td><td>0</td><td>0</td><td>  2</td></tr>\n",
              "\t<tr><td>2020-02-23</td><td> 7</td><td> 0</td><td> 0</td><td> 2</td><td>0</td><td>0</td><td>0</td><td>  5</td></tr>\n",
              "\t<tr><td>2020-02-24</td><td>13</td><td> 1</td><td> 1</td><td> 5</td><td>0</td><td>0</td><td>0</td><td> 48</td></tr>\n",
              "\t<tr><td>2020-02-25</td><td>11</td><td> 1</td><td> 2</td><td> 4</td><td>0</td><td>0</td><td>0</td><td>171</td></tr>\n",
              "\t<tr><td>2020-02-26</td><td>14</td><td>10</td><td> 6</td><td> 9</td><td>0</td><td>0</td><td>0</td><td>319</td></tr>\n",
              "\t<tr><td>2020-02-27</td><td>15</td><td>10</td><td> 5</td><td> 4</td><td>0</td><td>0</td><td>0</td><td>277</td></tr>\n",
              "\t<tr><td>2020-02-28</td><td>23</td><td>10</td><td>16</td><td> 5</td><td>0</td><td>0</td><td>0</td><td>450</td></tr>\n",
              "\t<tr><td>2020-02-29</td><td>25</td><td>13</td><td>14</td><td>12</td><td>0</td><td>0</td><td>0</td><td>257</td></tr>\n",
              "\t<tr><td>2020-03-01</td><td>31</td><td>11</td><td>12</td><td>10</td><td>0</td><td>0</td><td>0</td><td>366</td></tr>\n",
              "\t<tr><td>⋮</td><td>⋮</td><td>⋮</td><td>⋮</td><td>⋮</td><td>⋮</td><td>⋮</td><td>⋮</td><td>⋮</td></tr>\n",
              "\t<tr><td>2020-05-13</td><td>5</td><td>35</td><td>51</td><td>5</td><td>1</td><td>0</td><td>1</td><td>6203</td></tr>\n",
              "\t<tr><td>2020-05-14</td><td>5</td><td>37</td><td>41</td><td>1</td><td>2</td><td>2</td><td>0</td><td>5677</td></tr>\n",
              "\t<tr><td>2020-05-15</td><td>1</td><td>40</td><td>41</td><td>3</td><td>5</td><td>3</td><td>2</td><td>5566</td></tr>\n",
              "\t<tr><td>2020-05-16</td><td>6</td><td>15</td><td>26</td><td>3</td><td>1</td><td>1</td><td>0</td><td>3242</td></tr>\n",
              "\t<tr><td>2020-05-17</td><td>6</td><td>12</td><td>21</td><td>5</td><td>4</td><td>2</td><td>2</td><td>1732</td></tr>\n",
              "\t<tr><td>2020-05-18</td><td>7</td><td>34</td><td>21</td><td>2</td><td>3</td><td>1</td><td>2</td><td>4383</td></tr>\n",
              "\t<tr><td>2020-05-19</td><td>7</td><td>36</td><td>39</td><td>2</td><td>4</td><td>3</td><td>1</td><td>5959</td></tr>\n",
              "\t<tr><td>2020-05-20</td><td>6</td><td>29</td><td>33</td><td>1</td><td>0</td><td>0</td><td>0</td><td>4824</td></tr>\n",
              "\t<tr><td>2020-05-21</td><td>8</td><td>11</td><td>18</td><td>2</td><td>5</td><td>2</td><td>3</td><td>2104</td></tr>\n",
              "\t<tr><td>2020-05-22</td><td>5</td><td>20</td><td>24</td><td>3</td><td>1</td><td>1</td><td>0</td><td>3549</td></tr>\n",
              "\t<tr><td>2020-05-23</td><td>4</td><td>14</td><td>10</td><td>0</td><td>1</td><td>0</td><td>1</td><td>2527</td></tr>\n",
              "\t<tr><td>2020-05-24</td><td>6</td><td>10</td><td>10</td><td>0</td><td>0</td><td>0</td><td>0</td><td>1651</td></tr>\n",
              "\t<tr><td>2020-05-25</td><td>6</td><td>15</td><td>16</td><td>1</td><td>2</td><td>1</td><td>1</td><td>3987</td></tr>\n",
              "\t<tr><td>2020-05-26</td><td>2</td><td>19</td><td>15</td><td>1</td><td>2</td><td>2</td><td>0</td><td>5668</td></tr>\n",
              "\t<tr><td>2020-05-27</td><td>0</td><td>24</td><td>19</td><td>0</td><td>0</td><td>0</td><td>0</td><td>4991</td></tr>\n",
              "\t<tr><td>2020-05-28</td><td>1</td><td>31</td><td>31</td><td>2</td><td>0</td><td>0</td><td>0</td><td>4186</td></tr>\n",
              "\t<tr><td>2020-05-29</td><td>3</td><td>21</td><td>33</td><td>0</td><td>0</td><td>0</td><td>0</td><td>3692</td></tr>\n",
              "\t<tr><td>2020-05-30</td><td>2</td><td>10</td><td>16</td><td>1</td><td>0</td><td>0</td><td>0</td><td>2580</td></tr>\n",
              "\t<tr><td>2020-05-31</td><td>3</td><td> 7</td><td> 6</td><td>2</td><td>0</td><td>0</td><td>0</td><td>1561</td></tr>\n",
              "\t<tr><td>2020-06-01</td><td>4</td><td> 3</td><td> 6</td><td>0</td><td>0</td><td>0</td><td>0</td><td>1781</td></tr>\n",
              "\t<tr><td>2020-06-02</td><td>4</td><td>22</td><td> 6</td><td>0</td><td>0</td><td>0</td><td>0</td><td>4266</td></tr>\n",
              "\t<tr><td>2020-06-03</td><td>6</td><td>22</td><td>21</td><td>0</td><td>0</td><td>0</td><td>0</td><td>5237</td></tr>\n",
              "\t<tr><td>2020-06-04</td><td>4</td><td>17</td><td>28</td><td>2</td><td>0</td><td>0</td><td>0</td><td>5194</td></tr>\n",
              "\t<tr><td>2020-06-05</td><td>1</td><td>15</td><td>14</td><td>0</td><td>0</td><td>0</td><td>0</td><td>4778</td></tr>\n",
              "\t<tr><td>2020-06-06</td><td>4</td><td>10</td><td>16</td><td>0</td><td>1</td><td>1</td><td>0</td><td>3078</td></tr>\n",
              "\t<tr><td>2020-06-07</td><td>0</td><td> 6</td><td> 5</td><td>0</td><td>0</td><td>0</td><td>0</td><td>1509</td></tr>\n",
              "\t<tr><td>2020-06-08</td><td>2</td><td>25</td><td>13</td><td>0</td><td>1</td><td>1</td><td>0</td><td>4660</td></tr>\n",
              "\t<tr><td>2020-06-09</td><td>0</td><td>11</td><td>42</td><td>0</td><td>0</td><td>0</td><td>0</td><td>6157</td></tr>\n",
              "\t<tr><td>2020-06-10</td><td>0</td><td> 7</td><td> 9</td><td>0</td><td>0</td><td>0</td><td>0</td><td>4908</td></tr>\n",
              "\t<tr><td>2020-06-11</td><td>0</td><td> 0</td><td> 3</td><td>0</td><td>0</td><td>0</td><td>0</td><td>   0</td></tr>\n",
              "</tbody>\n",
              "</table>\n"
            ],
            "text/latex": [
              "A spec\\_tbl\\_df: 132 × 9\n",
              "\\begin{tabular}{lllllllll}\n",
              " date & onset\\_dt & test\\_dt & report\\_dt & hospit\\_dt & death\\_dt & death\\_dt\\_hospit & death\\_dt\\_nohospit & total\\_tested\\\\\n",
              " <date> & <dbl> & <dbl> & <dbl> & <dbl> & <dbl> & <dbl> & <dbl> & <dbl>\\\\\n",
              "\\hline\n",
              "\t 2020-01-30 &  1 &  0 &  0 &  1 & 0 & 0 & 0 &  40\\\\\n",
              "\t 2020-01-31 &  0 &  0 &  0 &  2 & 0 & 0 & 0 &  32\\\\\n",
              "\t 2020-02-01 &  3 &  0 &  0 &  2 & 0 & 0 & 0 &  19\\\\\n",
              "\t 2020-02-02 &  1 &  0 &  0 &  0 & 0 & 0 & 0 &  11\\\\\n",
              "\t 2020-02-03 &  1 &  0 &  0 &  2 & 0 & 0 & 0 &  14\\\\\n",
              "\t 2020-02-04 &  2 &  0 &  0 &  2 & 0 & 0 & 0 &  26\\\\\n",
              "\t 2020-02-05 &  0 &  0 &  0 &  1 & 0 & 0 & 0 &  28\\\\\n",
              "\t 2020-02-06 &  0 &  0 &  0 &  1 & 0 & 0 & 0 &  13\\\\\n",
              "\t 2020-02-07 &  2 &  0 &  0 &  1 & 0 & 0 & 0 &  15\\\\\n",
              "\t 2020-02-09 &  0 &  0 &  0 &  1 & 0 & 0 & 0 &   9\\\\\n",
              "\t 2020-02-10 &  0 &  0 &  0 &  2 & 0 & 0 & 0 &  13\\\\\n",
              "\t 2020-02-11 &  1 &  0 &  0 &  3 & 0 & 0 & 0 &  22\\\\\n",
              "\t 2020-02-12 &  0 &  0 &  0 &  1 & 0 & 0 & 0 &  20\\\\\n",
              "\t 2020-02-13 &  2 &  0 &  0 &  1 & 0 & 0 & 0 &   7\\\\\n",
              "\t 2020-02-14 &  2 &  0 &  0 &  3 & 0 & 0 & 0 &   9\\\\\n",
              "\t 2020-02-15 &  4 &  0 &  0 &  2 & 0 & 0 & 0 &   5\\\\\n",
              "\t 2020-02-17 &  2 &  0 &  0 &  3 & 0 & 0 & 0 &   0\\\\\n",
              "\t 2020-02-18 &  2 &  0 &  0 &  3 & 0 & 0 & 0 &   9\\\\\n",
              "\t 2020-02-19 &  1 &  0 &  0 &  5 & 0 & 0 & 0 &  14\\\\\n",
              "\t 2020-02-20 &  7 &  0 &  0 &  3 & 0 & 0 & 0 &  10\\\\\n",
              "\t 2020-02-21 &  5 &  0 &  0 &  5 & 0 & 0 & 0 &  14\\\\\n",
              "\t 2020-02-22 &  3 &  0 &  0 &  2 & 0 & 0 & 0 &   2\\\\\n",
              "\t 2020-02-23 &  7 &  0 &  0 &  2 & 0 & 0 & 0 &   5\\\\\n",
              "\t 2020-02-24 & 13 &  1 &  1 &  5 & 0 & 0 & 0 &  48\\\\\n",
              "\t 2020-02-25 & 11 &  1 &  2 &  4 & 0 & 0 & 0 & 171\\\\\n",
              "\t 2020-02-26 & 14 & 10 &  6 &  9 & 0 & 0 & 0 & 319\\\\\n",
              "\t 2020-02-27 & 15 & 10 &  5 &  4 & 0 & 0 & 0 & 277\\\\\n",
              "\t 2020-02-28 & 23 & 10 & 16 &  5 & 0 & 0 & 0 & 450\\\\\n",
              "\t 2020-02-29 & 25 & 13 & 14 & 12 & 0 & 0 & 0 & 257\\\\\n",
              "\t 2020-03-01 & 31 & 11 & 12 & 10 & 0 & 0 & 0 & 366\\\\\n",
              "\t ⋮ & ⋮ & ⋮ & ⋮ & ⋮ & ⋮ & ⋮ & ⋮ & ⋮\\\\\n",
              "\t 2020-05-13 & 5 & 35 & 51 & 5 & 1 & 0 & 1 & 6203\\\\\n",
              "\t 2020-05-14 & 5 & 37 & 41 & 1 & 2 & 2 & 0 & 5677\\\\\n",
              "\t 2020-05-15 & 1 & 40 & 41 & 3 & 5 & 3 & 2 & 5566\\\\\n",
              "\t 2020-05-16 & 6 & 15 & 26 & 3 & 1 & 1 & 0 & 3242\\\\\n",
              "\t 2020-05-17 & 6 & 12 & 21 & 5 & 4 & 2 & 2 & 1732\\\\\n",
              "\t 2020-05-18 & 7 & 34 & 21 & 2 & 3 & 1 & 2 & 4383\\\\\n",
              "\t 2020-05-19 & 7 & 36 & 39 & 2 & 4 & 3 & 1 & 5959\\\\\n",
              "\t 2020-05-20 & 6 & 29 & 33 & 1 & 0 & 0 & 0 & 4824\\\\\n",
              "\t 2020-05-21 & 8 & 11 & 18 & 2 & 5 & 2 & 3 & 2104\\\\\n",
              "\t 2020-05-22 & 5 & 20 & 24 & 3 & 1 & 1 & 0 & 3549\\\\\n",
              "\t 2020-05-23 & 4 & 14 & 10 & 0 & 1 & 0 & 1 & 2527\\\\\n",
              "\t 2020-05-24 & 6 & 10 & 10 & 0 & 0 & 0 & 0 & 1651\\\\\n",
              "\t 2020-05-25 & 6 & 15 & 16 & 1 & 2 & 1 & 1 & 3987\\\\\n",
              "\t 2020-05-26 & 2 & 19 & 15 & 1 & 2 & 2 & 0 & 5668\\\\\n",
              "\t 2020-05-27 & 0 & 24 & 19 & 0 & 0 & 0 & 0 & 4991\\\\\n",
              "\t 2020-05-28 & 1 & 31 & 31 & 2 & 0 & 0 & 0 & 4186\\\\\n",
              "\t 2020-05-29 & 3 & 21 & 33 & 0 & 0 & 0 & 0 & 3692\\\\\n",
              "\t 2020-05-30 & 2 & 10 & 16 & 1 & 0 & 0 & 0 & 2580\\\\\n",
              "\t 2020-05-31 & 3 &  7 &  6 & 2 & 0 & 0 & 0 & 1561\\\\\n",
              "\t 2020-06-01 & 4 &  3 &  6 & 0 & 0 & 0 & 0 & 1781\\\\\n",
              "\t 2020-06-02 & 4 & 22 &  6 & 0 & 0 & 0 & 0 & 4266\\\\\n",
              "\t 2020-06-03 & 6 & 22 & 21 & 0 & 0 & 0 & 0 & 5237\\\\\n",
              "\t 2020-06-04 & 4 & 17 & 28 & 2 & 0 & 0 & 0 & 5194\\\\\n",
              "\t 2020-06-05 & 1 & 15 & 14 & 0 & 0 & 0 & 0 & 4778\\\\\n",
              "\t 2020-06-06 & 4 & 10 & 16 & 0 & 1 & 1 & 0 & 3078\\\\\n",
              "\t 2020-06-07 & 0 &  6 &  5 & 0 & 0 & 0 & 0 & 1509\\\\\n",
              "\t 2020-06-08 & 2 & 25 & 13 & 0 & 1 & 1 & 0 & 4660\\\\\n",
              "\t 2020-06-09 & 0 & 11 & 42 & 0 & 0 & 0 & 0 & 6157\\\\\n",
              "\t 2020-06-10 & 0 &  7 &  9 & 0 & 0 & 0 & 0 & 4908\\\\\n",
              "\t 2020-06-11 & 0 &  0 &  3 & 0 & 0 & 0 & 0 &    0\\\\\n",
              "\\end{tabular}\n"
            ],
            "text/markdown": [
              "\n",
              "A spec_tbl_df: 132 × 9\n",
              "\n",
              "| date &lt;date&gt; | onset_dt &lt;dbl&gt; | test_dt &lt;dbl&gt; | report_dt &lt;dbl&gt; | hospit_dt &lt;dbl&gt; | death_dt &lt;dbl&gt; | death_dt_hospit &lt;dbl&gt; | death_dt_nohospit &lt;dbl&gt; | total_tested &lt;dbl&gt; |\n",
              "|---|---|---|---|---|---|---|---|---|\n",
              "| 2020-01-30 |  1 |  0 |  0 |  1 | 0 | 0 | 0 |  40 |\n",
              "| 2020-01-31 |  0 |  0 |  0 |  2 | 0 | 0 | 0 |  32 |\n",
              "| 2020-02-01 |  3 |  0 |  0 |  2 | 0 | 0 | 0 |  19 |\n",
              "| 2020-02-02 |  1 |  0 |  0 |  0 | 0 | 0 | 0 |  11 |\n",
              "| 2020-02-03 |  1 |  0 |  0 |  2 | 0 | 0 | 0 |  14 |\n",
              "| 2020-02-04 |  2 |  0 |  0 |  2 | 0 | 0 | 0 |  26 |\n",
              "| 2020-02-05 |  0 |  0 |  0 |  1 | 0 | 0 | 0 |  28 |\n",
              "| 2020-02-06 |  0 |  0 |  0 |  1 | 0 | 0 | 0 |  13 |\n",
              "| 2020-02-07 |  2 |  0 |  0 |  1 | 0 | 0 | 0 |  15 |\n",
              "| 2020-02-09 |  0 |  0 |  0 |  1 | 0 | 0 | 0 |   9 |\n",
              "| 2020-02-10 |  0 |  0 |  0 |  2 | 0 | 0 | 0 |  13 |\n",
              "| 2020-02-11 |  1 |  0 |  0 |  3 | 0 | 0 | 0 |  22 |\n",
              "| 2020-02-12 |  0 |  0 |  0 |  1 | 0 | 0 | 0 |  20 |\n",
              "| 2020-02-13 |  2 |  0 |  0 |  1 | 0 | 0 | 0 |   7 |\n",
              "| 2020-02-14 |  2 |  0 |  0 |  3 | 0 | 0 | 0 |   9 |\n",
              "| 2020-02-15 |  4 |  0 |  0 |  2 | 0 | 0 | 0 |   5 |\n",
              "| 2020-02-17 |  2 |  0 |  0 |  3 | 0 | 0 | 0 |   0 |\n",
              "| 2020-02-18 |  2 |  0 |  0 |  3 | 0 | 0 | 0 |   9 |\n",
              "| 2020-02-19 |  1 |  0 |  0 |  5 | 0 | 0 | 0 |  14 |\n",
              "| 2020-02-20 |  7 |  0 |  0 |  3 | 0 | 0 | 0 |  10 |\n",
              "| 2020-02-21 |  5 |  0 |  0 |  5 | 0 | 0 | 0 |  14 |\n",
              "| 2020-02-22 |  3 |  0 |  0 |  2 | 0 | 0 | 0 |   2 |\n",
              "| 2020-02-23 |  7 |  0 |  0 |  2 | 0 | 0 | 0 |   5 |\n",
              "| 2020-02-24 | 13 |  1 |  1 |  5 | 0 | 0 | 0 |  48 |\n",
              "| 2020-02-25 | 11 |  1 |  2 |  4 | 0 | 0 | 0 | 171 |\n",
              "| 2020-02-26 | 14 | 10 |  6 |  9 | 0 | 0 | 0 | 319 |\n",
              "| 2020-02-27 | 15 | 10 |  5 |  4 | 0 | 0 | 0 | 277 |\n",
              "| 2020-02-28 | 23 | 10 | 16 |  5 | 0 | 0 | 0 | 450 |\n",
              "| 2020-02-29 | 25 | 13 | 14 | 12 | 0 | 0 | 0 | 257 |\n",
              "| 2020-03-01 | 31 | 11 | 12 | 10 | 0 | 0 | 0 | 366 |\n",
              "| ⋮ | ⋮ | ⋮ | ⋮ | ⋮ | ⋮ | ⋮ | ⋮ | ⋮ |\n",
              "| 2020-05-13 | 5 | 35 | 51 | 5 | 1 | 0 | 1 | 6203 |\n",
              "| 2020-05-14 | 5 | 37 | 41 | 1 | 2 | 2 | 0 | 5677 |\n",
              "| 2020-05-15 | 1 | 40 | 41 | 3 | 5 | 3 | 2 | 5566 |\n",
              "| 2020-05-16 | 6 | 15 | 26 | 3 | 1 | 1 | 0 | 3242 |\n",
              "| 2020-05-17 | 6 | 12 | 21 | 5 | 4 | 2 | 2 | 1732 |\n",
              "| 2020-05-18 | 7 | 34 | 21 | 2 | 3 | 1 | 2 | 4383 |\n",
              "| 2020-05-19 | 7 | 36 | 39 | 2 | 4 | 3 | 1 | 5959 |\n",
              "| 2020-05-20 | 6 | 29 | 33 | 1 | 0 | 0 | 0 | 4824 |\n",
              "| 2020-05-21 | 8 | 11 | 18 | 2 | 5 | 2 | 3 | 2104 |\n",
              "| 2020-05-22 | 5 | 20 | 24 | 3 | 1 | 1 | 0 | 3549 |\n",
              "| 2020-05-23 | 4 | 14 | 10 | 0 | 1 | 0 | 1 | 2527 |\n",
              "| 2020-05-24 | 6 | 10 | 10 | 0 | 0 | 0 | 0 | 1651 |\n",
              "| 2020-05-25 | 6 | 15 | 16 | 1 | 2 | 1 | 1 | 3987 |\n",
              "| 2020-05-26 | 2 | 19 | 15 | 1 | 2 | 2 | 0 | 5668 |\n",
              "| 2020-05-27 | 0 | 24 | 19 | 0 | 0 | 0 | 0 | 4991 |\n",
              "| 2020-05-28 | 1 | 31 | 31 | 2 | 0 | 0 | 0 | 4186 |\n",
              "| 2020-05-29 | 3 | 21 | 33 | 0 | 0 | 0 | 0 | 3692 |\n",
              "| 2020-05-30 | 2 | 10 | 16 | 1 | 0 | 0 | 0 | 2580 |\n",
              "| 2020-05-31 | 3 |  7 |  6 | 2 | 0 | 0 | 0 | 1561 |\n",
              "| 2020-06-01 | 4 |  3 |  6 | 0 | 0 | 0 | 0 | 1781 |\n",
              "| 2020-06-02 | 4 | 22 |  6 | 0 | 0 | 0 | 0 | 4266 |\n",
              "| 2020-06-03 | 6 | 22 | 21 | 0 | 0 | 0 | 0 | 5237 |\n",
              "| 2020-06-04 | 4 | 17 | 28 | 2 | 0 | 0 | 0 | 5194 |\n",
              "| 2020-06-05 | 1 | 15 | 14 | 0 | 0 | 0 | 0 | 4778 |\n",
              "| 2020-06-06 | 4 | 10 | 16 | 0 | 1 | 1 | 0 | 3078 |\n",
              "| 2020-06-07 | 0 |  6 |  5 | 0 | 0 | 0 | 0 | 1509 |\n",
              "| 2020-06-08 | 2 | 25 | 13 | 0 | 1 | 1 | 0 | 4660 |\n",
              "| 2020-06-09 | 0 | 11 | 42 | 0 | 0 | 0 | 0 | 6157 |\n",
              "| 2020-06-10 | 0 |  7 |  9 | 0 | 0 | 0 | 0 | 4908 |\n",
              "| 2020-06-11 | 0 |  0 |  3 | 0 | 0 | 0 | 0 |    0 |\n",
              "\n"
            ],
            "text/plain": [
              "    date       onset_dt test_dt report_dt hospit_dt death_dt death_dt_hospit\n",
              "1   2020-01-30  1        0       0         1        0        0              \n",
              "2   2020-01-31  0        0       0         2        0        0              \n",
              "3   2020-02-01  3        0       0         2        0        0              \n",
              "4   2020-02-02  1        0       0         0        0        0              \n",
              "5   2020-02-03  1        0       0         2        0        0              \n",
              "6   2020-02-04  2        0       0         2        0        0              \n",
              "7   2020-02-05  0        0       0         1        0        0              \n",
              "8   2020-02-06  0        0       0         1        0        0              \n",
              "9   2020-02-07  2        0       0         1        0        0              \n",
              "10  2020-02-09  0        0       0         1        0        0              \n",
              "11  2020-02-10  0        0       0         2        0        0              \n",
              "12  2020-02-11  1        0       0         3        0        0              \n",
              "13  2020-02-12  0        0       0         1        0        0              \n",
              "14  2020-02-13  2        0       0         1        0        0              \n",
              "15  2020-02-14  2        0       0         3        0        0              \n",
              "16  2020-02-15  4        0       0         2        0        0              \n",
              "17  2020-02-17  2        0       0         3        0        0              \n",
              "18  2020-02-18  2        0       0         3        0        0              \n",
              "19  2020-02-19  1        0       0         5        0        0              \n",
              "20  2020-02-20  7        0       0         3        0        0              \n",
              "21  2020-02-21  5        0       0         5        0        0              \n",
              "22  2020-02-22  3        0       0         2        0        0              \n",
              "23  2020-02-23  7        0       0         2        0        0              \n",
              "24  2020-02-24 13        1       1         5        0        0              \n",
              "25  2020-02-25 11        1       2         4        0        0              \n",
              "26  2020-02-26 14       10       6         9        0        0              \n",
              "27  2020-02-27 15       10       5         4        0        0              \n",
              "28  2020-02-28 23       10      16         5        0        0              \n",
              "29  2020-02-29 25       13      14        12        0        0              \n",
              "30  2020-03-01 31       11      12        10        0        0              \n",
              "⋮   ⋮          ⋮        ⋮       ⋮         ⋮         ⋮        ⋮              \n",
              "103 2020-05-13 5        35      51        5         1        0              \n",
              "104 2020-05-14 5        37      41        1         2        2              \n",
              "105 2020-05-15 1        40      41        3         5        3              \n",
              "106 2020-05-16 6        15      26        3         1        1              \n",
              "107 2020-05-17 6        12      21        5         4        2              \n",
              "108 2020-05-18 7        34      21        2         3        1              \n",
              "109 2020-05-19 7        36      39        2         4        3              \n",
              "110 2020-05-20 6        29      33        1         0        0              \n",
              "111 2020-05-21 8        11      18        2         5        2              \n",
              "112 2020-05-22 5        20      24        3         1        1              \n",
              "113 2020-05-23 4        14      10        0         1        0              \n",
              "114 2020-05-24 6        10      10        0         0        0              \n",
              "115 2020-05-25 6        15      16        1         2        1              \n",
              "116 2020-05-26 2        19      15        1         2        2              \n",
              "117 2020-05-27 0        24      19        0         0        0              \n",
              "118 2020-05-28 1        31      31        2         0        0              \n",
              "119 2020-05-29 3        21      33        0         0        0              \n",
              "120 2020-05-30 2        10      16        1         0        0              \n",
              "121 2020-05-31 3         7       6        2         0        0              \n",
              "122 2020-06-01 4         3       6        0         0        0              \n",
              "123 2020-06-02 4        22       6        0         0        0              \n",
              "124 2020-06-03 6        22      21        0         0        0              \n",
              "125 2020-06-04 4        17      28        2         0        0              \n",
              "126 2020-06-05 1        15      14        0         0        0              \n",
              "127 2020-06-06 4        10      16        0         1        1              \n",
              "128 2020-06-07 0         6       5        0         0        0              \n",
              "129 2020-06-08 2        25      13        0         1        1              \n",
              "130 2020-06-09 0        11      42        0         0        0              \n",
              "131 2020-06-10 0         7       9        0         0        0              \n",
              "132 2020-06-11 0         0       3        0         0        0              \n",
              "    death_dt_nohospit total_tested\n",
              "1   0                  40         \n",
              "2   0                  32         \n",
              "3   0                  19         \n",
              "4   0                  11         \n",
              "5   0                  14         \n",
              "6   0                  26         \n",
              "7   0                  28         \n",
              "8   0                  13         \n",
              "9   0                  15         \n",
              "10  0                   9         \n",
              "11  0                  13         \n",
              "12  0                  22         \n",
              "13  0                  20         \n",
              "14  0                   7         \n",
              "15  0                   9         \n",
              "16  0                   5         \n",
              "17  0                   0         \n",
              "18  0                   9         \n",
              "19  0                  14         \n",
              "20  0                  10         \n",
              "21  0                  14         \n",
              "22  0                   2         \n",
              "23  0                   5         \n",
              "24  0                  48         \n",
              "25  0                 171         \n",
              "26  0                 319         \n",
              "27  0                 277         \n",
              "28  0                 450         \n",
              "29  0                 257         \n",
              "30  0                 366         \n",
              "⋮   ⋮                 ⋮           \n",
              "103 1                 6203        \n",
              "104 0                 5677        \n",
              "105 2                 5566        \n",
              "106 0                 3242        \n",
              "107 2                 1732        \n",
              "108 2                 4383        \n",
              "109 1                 5959        \n",
              "110 0                 4824        \n",
              "111 3                 2104        \n",
              "112 0                 3549        \n",
              "113 1                 2527        \n",
              "114 0                 1651        \n",
              "115 1                 3987        \n",
              "116 0                 5668        \n",
              "117 0                 4991        \n",
              "118 0                 4186        \n",
              "119 0                 3692        \n",
              "120 0                 2580        \n",
              "121 0                 1561        \n",
              "122 0                 1781        \n",
              "123 0                 4266        \n",
              "124 0                 5237        \n",
              "125 0                 5194        \n",
              "126 0                 4778        \n",
              "127 0                 3078        \n",
              "128 0                 1509        \n",
              "129 0                 4660        \n",
              "130 0                 6157        \n",
              "131 0                 4908        \n",
              "132 0                    0        "
            ]
          },
          "metadata": {},
          "output_type": "display_data"
        }
      ],
      "source": [
        "df_swiss"
      ]
    },
    {
      "cell_type": "code",
      "execution_count": null,
      "metadata": {
        "vscode": {
          "languageId": "r"
        }
      },
      "outputs": [],
      "source": []
    }
  ],
  "metadata": {
    "accelerator": "GPU",
    "colab": {
      "gpuType": "T4",
      "include_colab_link": true,
      "provenance": []
    },
    "kernelspec": {
      "display_name": "R",
      "language": "R",
      "name": "ir"
    },
    "language_info": {
      "codemirror_mode": "r",
      "file_extension": ".r",
      "mimetype": "text/x-r-source",
      "name": "R",
      "pygments_lexer": "r",
      "version": "4.3.1"
    }
  },
  "nbformat": 4,
  "nbformat_minor": 0
}
