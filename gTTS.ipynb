{
  "nbformat": 4,
  "nbformat_minor": 0,
  "metadata": {
    "colab": {
      "provenance": [],
      "gpuType": "T4",
      "authorship_tag": "ABX9TyOYEaXp/Y37sHVoxHwxtat7",
      "include_colab_link": true
    },
    "kernelspec": {
      "name": "python3",
      "display_name": "Python 3"
    },
    "language_info": {
      "name": "python"
    },
    "accelerator": "GPU"
  },
  "cells": [
    {
      "cell_type": "markdown",
      "metadata": {
        "id": "view-in-github",
        "colab_type": "text"
      },
      "source": [
        "<a href=\"https://colab.research.google.com/github/hublun/Bayesian_Aggregation_Average_Data/blob/master/gTTS.ipynb\" target=\"_parent\"><img src=\"https://colab.research.google.com/assets/colab-badge.svg\" alt=\"Open In Colab\"/></a>"
      ]
    },
    {
      "cell_type": "code",
      "execution_count": 10,
      "metadata": {
        "colab": {
          "base_uri": "https://localhost:8080/"
        },
        "id": "R2ukMaPwhcV6",
        "outputId": "62526a02-c111-4572-c1ce-c388f5242a36"
      },
      "outputs": [
        {
          "output_type": "stream",
          "name": "stdout",
          "text": [
            "Requirement already satisfied: gTTS in /usr/local/lib/python3.10/dist-packages (2.5.3)\n",
            "Requirement already satisfied: requests<3,>=2.27 in /usr/local/lib/python3.10/dist-packages (from gTTS) (2.32.3)\n",
            "Requirement already satisfied: click<8.2,>=7.1 in /usr/local/lib/python3.10/dist-packages (from gTTS) (8.1.7)\n",
            "Requirement already satisfied: charset-normalizer<4,>=2 in /usr/local/lib/python3.10/dist-packages (from requests<3,>=2.27->gTTS) (3.4.0)\n",
            "Requirement already satisfied: idna<4,>=2.5 in /usr/local/lib/python3.10/dist-packages (from requests<3,>=2.27->gTTS) (3.10)\n",
            "Requirement already satisfied: urllib3<3,>=1.21.1 in /usr/local/lib/python3.10/dist-packages (from requests<3,>=2.27->gTTS) (2.2.3)\n",
            "Requirement already satisfied: certifi>=2017.4.17 in /usr/local/lib/python3.10/dist-packages (from requests<3,>=2.27->gTTS) (2024.8.30)\n",
            "Collecting pydub\n",
            "  Downloading pydub-0.25.1-py2.py3-none-any.whl.metadata (1.4 kB)\n",
            "Downloading pydub-0.25.1-py2.py3-none-any.whl (32 kB)\n",
            "Installing collected packages: pydub\n",
            "Successfully installed pydub-0.25.1\n"
          ]
        }
      ],
      "source": [
        "!pip install gTTS\n",
        "!pip install pydub"
      ]
    },
    {
      "cell_type": "code",
      "source": [
        "from gtts import gTTS\n",
        "from pydub import AudioSegment\n",
        "from IPython.display import Audio"
      ],
      "metadata": {
        "id": "E5cLqurhk4Dx"
      },
      "execution_count": 16,
      "outputs": []
    },
    {
      "cell_type": "code",
      "source": [
        "text = \"This CJ Duan\""
      ],
      "metadata": {
        "id": "MWAstNLBk9cm"
      },
      "execution_count": 19,
      "outputs": []
    },
    {
      "cell_type": "code",
      "source": [
        "# Generate TTS audio\n",
        "\n",
        "tts = gTTS(text=text, lang='en')\n",
        "tts.save(\"output.mp3\")\n",
        "\n",
        "# Load audio and adjust pitch\n",
        "audio = AudioSegment.from_file(\"output.mp3\")\n",
        "octaves = -0.5  # Negative values lower the pitch; -0.5 can make it sound male\n",
        "new_sample_rate = int(audio.frame_rate * (1.5 ** octaves))\n",
        "lowered_audio = audio._spawn(audio.raw_data, overrides={\"frame_rate\": new_sample_rate})\n",
        "lowered_audio = lowered_audio.set_frame_rate(44100)\n",
        "\n",
        "# Save and play\n",
        "lowered_audio.export(\"lowered_output.mp3\", format=\"mp3\")\n",
        "Audio(\"lowered_output.mp3\", autoplay=True)\n"
      ],
      "metadata": {
        "colab": {
          "base_uri": "https://localhost:8080/",
          "height": 75
        },
        "id": "K2DJgKDAhjL_",
        "outputId": "ea726406-a031-4b17-e4b5-4077cbe77435"
      },
      "execution_count": 23,
      "outputs": [
        {
          "output_type": "execute_result",
          "data": {
            "text/plain": [
              "<IPython.lib.display.Audio object>"
            ],
            "text/html": [
              "\n",
              "                <audio  controls=\"controls\" autoplay=\"autoplay\">\n",
              "                    <source src=\"data:audio/mpeg;base64,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\" type=\"audio/mpeg\" />\n",
              "                    Your browser does not support the audio element.\n",
              "                </audio>\n",
              "              "
            ]
          },
          "metadata": {},
          "execution_count": 23
        }
      ]
    },
    {
      "cell_type": "markdown",
      "source": [
        "\n",
        "\n",
        "---\n",
        "\n"
      ],
      "metadata": {
        "id": "gmqQ-d_kjvT_"
      }
    },
    {
      "cell_type": "code",
      "source": [],
      "metadata": {
        "id": "HvWOj9b_j5uK"
      },
      "execution_count": null,
      "outputs": []
    }
  ]
}