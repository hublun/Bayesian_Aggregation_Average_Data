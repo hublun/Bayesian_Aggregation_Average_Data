{
 "cells": [
  {
   "cell_type": "code",
   "execution_count": 1,
   "metadata": {
    "vscode": {
     "languageId": "r"
    }
   },
   "outputs": [
    {
     "name": "stderr",
     "output_type": "stream",
     "text": [
      "Loading required package: StanHeaders\n",
      "\n",
      "\n",
      "rstan version 2.32.5 (Stan version 2.32.2)\n",
      "\n",
      "\n",
      "For execution on a local, multicore CPU with excess RAM we recommend calling\n",
      "options(mc.cores = parallel::detectCores()).\n",
      "To avoid recompilation of unchanged Stan programs, we recommend calling\n",
      "rstan_options(auto_write = TRUE)\n",
      "For within-chain threading using `reduce_sum()` or `map_rect()` Stan functions,\n",
      "change `threads_per_chain` option:\n",
      "rstan_options(threads_per_chain = 1)\n",
      "\n",
      "\n"
     ]
    }
   ],
   "source": [
    "library(rstan)"
   ]
  },
  {
   "cell_type": "code",
   "execution_count": 15,
   "metadata": {
    "vscode": {
     "languageId": "r"
    }
   },
   "outputs": [],
   "source": [
    "## choose whatever is appropiate for your computing environment\n",
    "## useful on laptop\n",
    "cores <- parallel::detectCores()\n",
    "## needed on cluster\n",
    "#cores <- as.numeric(Sys.getenv(\"NSLOTS\"))"
   ]
  },
  {
   "cell_type": "code",
   "execution_count": 16,
   "metadata": {
    "vscode": {
     "languageId": "r"
    }
   },
   "outputs": [],
   "source": [
    "options(mc.cores = cores)"
   ]
  },
  {
   "cell_type": "code",
   "execution_count": 17,
   "metadata": {
    "vscode": {
     "languageId": "r"
    }
   },
   "outputs": [],
   "source": [
    "expose_stan_functions('pkpd_mvn_approxb.stan')"
   ]
  },
  {
   "cell_type": "code",
   "execution_count": 4,
   "metadata": {
    "vscode": {
     "languageId": "r"
    }
   },
   "outputs": [],
   "source": [
    "# define true parameters\n",
    "Lalpha_0 <- valogit(0.5)\n",
    "\n",
    "Lalpha_s <- valogit(0.35)\n",
    "lkappa   <- log(10/52)\n",
    "lEmax    <- log(valogit(0.60) - Lalpha_s)\n",
    "\n",
    "sigma_Lalpha_0 <- 0.2\n",
    "sigma_lkappa   <- 0.5"
   ]
  },
  {
   "cell_type": "code",
   "execution_count": null,
   "metadata": {
    "vscode": {
     "languageId": "r"
    }
   },
   "outputs": [],
   "source": []
  }
 ],
 "metadata": {
  "kernelspec": {
   "display_name": "R",
   "language": "R",
   "name": "ir"
  },
  "language_info": {
   "codemirror_mode": "r",
   "file_extension": ".r",
   "mimetype": "text/x-r-source",
   "name": "R",
   "pygments_lexer": "r",
   "version": "4.3.2"
  }
 },
 "nbformat": 4,
 "nbformat_minor": 2
}
