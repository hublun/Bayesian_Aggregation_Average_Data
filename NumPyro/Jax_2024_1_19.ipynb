{
  "nbformat": 4,
  "nbformat_minor": 0,
  "metadata": {
    "colab": {
      "provenance": [],
      "gpuType": "T4",
      "include_colab_link": true
    },
    "kernelspec": {
      "name": "python3",
      "display_name": "Python 3"
    },
    "language_info": {
      "name": "python"
    },
    "accelerator": "GPU"
  },
  "cells": [
    {
      "cell_type": "markdown",
      "metadata": {
        "id": "view-in-github",
        "colab_type": "text"
      },
      "source": [
        "<a href=\"https://colab.research.google.com/github/hublun/Bayesian_Aggregation_Average_Data/blob/master/Jax_2024_1_19.ipynb\" target=\"_parent\"><img src=\"https://colab.research.google.com/assets/colab-badge.svg\" alt=\"Open In Colab\"/></a>"
      ]
    },
    {
      "cell_type": "markdown",
      "source": [
        "### Using the OpenAI Library to Programmatically Access GPT-3.5-turbo!\n",
        "\n",
        "This notebook was authored by [DRC Lab](http://www.dulun.com/)"
      ],
      "metadata": {
        "id": "kQt-gyAYUbm3"
      }
    },
    {
      "cell_type": "code",
      "source": [
        "!nvcc --version"
      ],
      "metadata": {
        "colab": {
          "base_uri": "https://localhost:8080/"
        },
        "id": "RwxgaX78E_W0",
        "outputId": "4f19f234-a69e-4974-e3ca-5ff0b74dc16f"
      },
      "execution_count": 1,
      "outputs": [
        {
          "output_type": "stream",
          "name": "stdout",
          "text": [
            "nvcc: NVIDIA (R) Cuda compiler driver\n",
            "Copyright (c) 2005-2023 NVIDIA Corporation\n",
            "Built on Tue_Aug_15_22:02:13_PDT_2023\n",
            "Cuda compilation tools, release 12.2, V12.2.140\n",
            "Build cuda_12.2.r12.2/compiler.33191640_0\n"
          ]
        }
      ]
    },
    {
      "cell_type": "code",
      "source": [
        "!nvidia-smi"
      ],
      "metadata": {
        "colab": {
          "base_uri": "https://localhost:8080/"
        },
        "id": "5Y4dvNS3FG-u",
        "outputId": "dae6b551-24f3-4e9b-9f5f-0494c38d8928"
      },
      "execution_count": 2,
      "outputs": [
        {
          "output_type": "stream",
          "name": "stdout",
          "text": [
            "Fri Jan 19 14:27:47 2024       \n",
            "+---------------------------------------------------------------------------------------+\n",
            "| NVIDIA-SMI 535.104.05             Driver Version: 535.104.05   CUDA Version: 12.2     |\n",
            "|-----------------------------------------+----------------------+----------------------+\n",
            "| GPU  Name                 Persistence-M | Bus-Id        Disp.A | Volatile Uncorr. ECC |\n",
            "| Fan  Temp   Perf          Pwr:Usage/Cap |         Memory-Usage | GPU-Util  Compute M. |\n",
            "|                                         |                      |               MIG M. |\n",
            "|=========================================+======================+======================|\n",
            "|   0  Tesla T4                       Off | 00000000:00:04.0 Off |                    0 |\n",
            "| N/A   54C    P8               9W /  70W |      0MiB / 15360MiB |      0%      Default |\n",
            "|                                         |                      |                  N/A |\n",
            "+-----------------------------------------+----------------------+----------------------+\n",
            "                                                                                         \n",
            "+---------------------------------------------------------------------------------------+\n",
            "| Processes:                                                                            |\n",
            "|  GPU   GI   CI        PID   Type   Process name                            GPU Memory |\n",
            "|        ID   ID                                                             Usage      |\n",
            "|=======================================================================================|\n",
            "|  No running processes found                                                           |\n",
            "+---------------------------------------------------------------------------------------+\n"
          ]
        }
      ]
    },
    {
      "cell_type": "code",
      "source": [
        "import jax"
      ],
      "metadata": {
        "id": "R0YddF2vFK71"
      },
      "execution_count": 3,
      "outputs": []
    },
    {
      "cell_type": "code",
      "source": [
        "jax.devices()"
      ],
      "metadata": {
        "colab": {
          "base_uri": "https://localhost:8080/"
        },
        "id": "DHBj4Kt4FNjr",
        "outputId": "86f43943-7a56-4b9f-d925-c1faf2c851c6"
      },
      "execution_count": 4,
      "outputs": [
        {
          "output_type": "execute_result",
          "data": {
            "text/plain": [
              "[cuda(id=0)]"
            ]
          },
          "metadata": {},
          "execution_count": 4
        }
      ]
    },
    {
      "cell_type": "code",
      "source": [
        "from jax import grad\n",
        "import jax.numpy as jnp\n",
        "\n",
        "def tanh(x):  # Define a function\n",
        "  y = jnp.exp(-2.0 * x)\n",
        "  return (1.0 - y) / (1.0 + y)\n",
        "\n",
        "grad_tanh = grad(tanh)  # Obtain its gradient function\n",
        "print(grad_tanh(1.0))   # Evaluate it at x = 1.0"
      ],
      "metadata": {
        "colab": {
          "base_uri": "https://localhost:8080/"
        },
        "id": "zfnmtgmYFSoq",
        "outputId": "43a7991b-282c-4cd2-82d8-398c4cfbec4e"
      },
      "execution_count": 5,
      "outputs": [
        {
          "output_type": "stream",
          "name": "stdout",
          "text": [
            "0.4199743\n"
          ]
        }
      ]
    },
    {
      "cell_type": "markdown",
      "source": [
        "\n",
        "\n",
        "---\n",
        "\n"
      ],
      "metadata": {
        "id": "ow840WyUGE3c"
      }
    },
    {
      "cell_type": "code",
      "source": [
        "x = jnp.array([1.0, 2.0, 3.0], dtype=jnp.float32)\n",
        "x\n",
        "x.shape"
      ],
      "metadata": {
        "colab": {
          "base_uri": "https://localhost:8080/"
        },
        "id": "RGJ3wbqMFSXC",
        "outputId": "237f80a9-c9c4-437b-92b1-b85b760c3c2b"
      },
      "execution_count": 6,
      "outputs": [
        {
          "output_type": "execute_result",
          "data": {
            "text/plain": [
              "(3,)"
            ]
          },
          "metadata": {},
          "execution_count": 6
        }
      ]
    },
    {
      "cell_type": "code",
      "source": [
        "x.at[1].set(4)"
      ],
      "metadata": {
        "colab": {
          "base_uri": "https://localhost:8080/"
        },
        "id": "u9Z920XLXI1r",
        "outputId": "ffd2f5b4-df94-4d07-ec93-2e9db5193298"
      },
      "execution_count": 7,
      "outputs": [
        {
          "output_type": "execute_result",
          "data": {
            "text/plain": [
              "Array([1., 4., 3.], dtype=float32)"
            ]
          },
          "metadata": {},
          "execution_count": 7
        }
      ]
    },
    {
      "cell_type": "markdown",
      "source": [
        "This is because sometimes we might want to run code on a vector processor like a GPU or TPU that we can use JAX for, or we might prefer to run some code on a CPU in NumPy.\n",
        "\n",
        "```\n",
        "The other point to note is that JAX tensors have shape. This is usually a tuple, so (3,) means a three-dimensional\n",
        "\n",
        "vector along the first axis. A matrix has two axes, and a tensor has three or more axes.\n",
        "```\n",
        "\n"
      ],
      "metadata": {
        "id": "rfoGS0XcXnyR"
      }
    },
    {
      "cell_type": "markdown",
      "source": [
        "Now we come to places where JAX differs from NumPy. It is really important to pay attention to “[JAX—The Sharp Bits](https://oreil.ly/qqcFM)” to understand these differences. JAX’s philosophy is about speed and purity. By making functions pure (without side effects) and by making data immutable, JAX is able to make some guarantees to the underlying accelerated linear algebra (XLA) library that it uses to talk to GPUs. JAX guarantees that these functions applied to data can be run in parallel and have deterministic results without side effects, and thus XLA is able to compile these functions and make them run much faster than if they were run just on NumPy."
      ],
      "metadata": {
        "id": "esTglBzGYPse"
      }
    },
    {
      "cell_type": "code",
      "source": [
        "x = jnp.array([[1, 2, 3], [4, 5, 6], [7, 8, 9]], dtype=jnp.int32)\n",
        "x.shape\n"
      ],
      "metadata": {
        "colab": {
          "base_uri": "https://localhost:8080/"
        },
        "id": "uiQv-rEIXsn-",
        "outputId": "d814d5af-9263-4c83-bbee-9e3acff06dab"
      },
      "execution_count": 8,
      "outputs": [
        {
          "output_type": "execute_result",
          "data": {
            "text/plain": [
              "(3, 3)"
            ]
          },
          "metadata": {},
          "execution_count": 8
        }
      ]
    },
    {
      "cell_type": "markdown",
      "source": [
        "\n",
        "\n",
        "---\n",
        "\n"
      ],
      "metadata": {
        "id": "PInACkIWUhOd"
      }
    },
    {
      "cell_type": "code",
      "source": [
        "print(x[0])\n",
        "print(x[-1])"
      ],
      "metadata": {
        "id": "S3uvIa_KNYq-",
        "outputId": "f94a5dba-df32-4d86-8c34-cd4e02bc03e3",
        "colab": {
          "base_uri": "https://localhost:8080/"
        }
      },
      "execution_count": 10,
      "outputs": [
        {
          "output_type": "stream",
          "name": "stdout",
          "text": [
            "[1 2 3]\n",
            "[7 8 9]\n"
          ]
        }
      ]
    },
    {
      "cell_type": "code",
      "source": [
        "print(x[:,1])"
      ],
      "metadata": {
        "id": "O9xD1pdbNamH",
        "outputId": "de3e6db3-53b8-4727-bf4d-c0a2919f151a",
        "colab": {
          "base_uri": "https://localhost:8080/"
        }
      },
      "execution_count": 11,
      "outputs": [
        {
          "output_type": "stream",
          "name": "stdout",
          "text": [
            "[2 5 8]\n"
          ]
        }
      ]
    },
    {
      "cell_type": "code",
      "source": [
        "# Print every other element\n",
        "print(x[::2, ::2])"
      ],
      "metadata": {
        "id": "Ba78ZzVANjju",
        "outputId": "cba3c234-65ad-46de-f187-22c9079fb348",
        "colab": {
          "base_uri": "https://localhost:8080/"
        }
      },
      "execution_count": 12,
      "outputs": [
        {
          "output_type": "stream",
          "name": "stdout",
          "text": [
            "[[1 3]\n",
            " [7 9]]\n"
          ]
        }
      ]
    },
    {
      "cell_type": "code",
      "source": [
        "y = 2*x\n",
        "y"
      ],
      "metadata": {
        "id": "J13X198dNphe",
        "outputId": "17eb7a3a-3279-48ef-8165-ef62331675ad",
        "colab": {
          "base_uri": "https://localhost:8080/"
        }
      },
      "execution_count": 13,
      "outputs": [
        {
          "output_type": "execute_result",
          "data": {
            "text/plain": [
              "Array([[ 2,  4,  6],\n",
              "       [ 8, 10, 12],\n",
              "       [14, 16, 18]], dtype=int32)"
            ]
          },
          "metadata": {},
          "execution_count": 13
        }
      ]
    },
    {
      "cell_type": "code",
      "source": [
        "vec = jnp.reshape(jnp.array([0.5, 1.0, 2.0]), [3, 1])\n",
        "vec"
      ],
      "metadata": {
        "id": "XHmhWUVKOJGi",
        "outputId": "121cba7b-066e-4b00-f469-94f1b1f9a053",
        "colab": {
          "base_uri": "https://localhost:8080/"
        }
      },
      "execution_count": 14,
      "outputs": [
        {
          "output_type": "execute_result",
          "data": {
            "text/plain": [
              "Array([[0.5],\n",
              "       [1. ],\n",
              "       [2. ]], dtype=float32)"
            ]
          },
          "metadata": {},
          "execution_count": 14
        }
      ]
    },
    {
      "cell_type": "code",
      "source": [
        "vec * x"
      ],
      "metadata": {
        "id": "W7QlnFeaOWf5",
        "outputId": "fad1bbe7-29ab-4ee9-a6a5-c664eaf47b5d",
        "colab": {
          "base_uri": "https://localhost:8080/"
        }
      },
      "execution_count": 15,
      "outputs": [
        {
          "output_type": "execute_result",
          "data": {
            "text/plain": [
              "Array([[ 0.5,  1. ,  1.5],\n",
              "       [ 4. ,  5. ,  6. ],\n",
              "       [14. , 16. , 18. ]], dtype=float32)"
            ]
          },
          "metadata": {},
          "execution_count": 15
        }
      ]
    },
    {
      "cell_type": "code",
      "source": [
        "jnp.reshape(vec, (1,3)) * x"
      ],
      "metadata": {
        "id": "qjiXILo-ObTN",
        "outputId": "402d7f68-50da-4ab3-c4e3-dd3475758292",
        "colab": {
          "base_uri": "https://localhost:8080/"
        }
      },
      "execution_count": 17,
      "outputs": [
        {
          "output_type": "execute_result",
          "data": {
            "text/plain": [
              "Array([[ 0.5,  2. ,  6. ],\n",
              "       [ 2. ,  5. , 12. ],\n",
              "       [ 3.5,  8. , 18. ]], dtype=float32)"
            ]
          },
          "metadata": {},
          "execution_count": 17
        }
      ]
    },
    {
      "cell_type": "code",
      "source": [
        "import jax.random as random"
      ],
      "metadata": {
        "id": "Ep67-exgPMb2"
      },
      "execution_count": 19,
      "outputs": []
    },
    {
      "cell_type": "code",
      "source": [
        "key = random.PRNGKey(0)\n",
        "x = random.uniform(key, shape=[3, 3])\n",
        "x"
      ],
      "metadata": {
        "id": "j4ojXujkOsSA",
        "outputId": "9cf6702a-8db4-410b-cd7c-36e2ea7a8954",
        "colab": {
          "base_uri": "https://localhost:8080/"
        }
      },
      "execution_count": 21,
      "outputs": [
        {
          "output_type": "execute_result",
          "data": {
            "text/plain": [
              "Array([[0.35490513, 0.60419905, 0.4275843 ],\n",
              "       [0.23061597, 0.6735498 , 0.43953657],\n",
              "       [0.25099766, 0.27730572, 0.7678207 ]], dtype=float32)"
            ]
          },
          "metadata": {},
          "execution_count": 21
        }
      ]
    },
    {
      "cell_type": "code",
      "source": [
        "key, subkey = random.split(key)\n",
        "x = random.uniform(key, shape=[3, 3])\n",
        "x"
      ],
      "metadata": {
        "id": "j8ZWnPDHPLHo",
        "outputId": "742fda40-ca9e-4646-e64b-2233d4bafae4",
        "colab": {
          "base_uri": "https://localhost:8080/"
        }
      },
      "execution_count": 23,
      "outputs": [
        {
          "output_type": "execute_result",
          "data": {
            "text/plain": [
              "Array([[0.8494284 , 0.13328338, 0.82961345],\n",
              "       [0.24099779, 0.44065714, 0.23725045],\n",
              "       [0.19817984, 0.86455667, 0.22237241]], dtype=float32)"
            ]
          },
          "metadata": {},
          "execution_count": 23
        }
      ]
    },
    {
      "cell_type": "code",
      "source": [
        "y = random.uniform(subkey, shape=[3, 3])\n",
        "print(y)"
      ],
      "metadata": {
        "id": "WclwyZRwPc_o",
        "outputId": "510fec0b-d2bd-4fae-bd24-2790c5ca3cd6",
        "colab": {
          "base_uri": "https://localhost:8080/"
        }
      },
      "execution_count": 24,
      "outputs": [
        {
          "output_type": "stream",
          "name": "stdout",
          "text": [
            "[[0.46436882 0.9362588  0.3402921 ]\n",
            " [0.79412293 0.02270031 0.6626308 ]\n",
            " [0.84614086 0.5032078  0.7358694 ]]\n"
          ]
        }
      ]
    },
    {
      "cell_type": "code",
      "source": [
        "x = random.uniform(key, shape=[2048, 2048]) - 0.5\n",
        "\n",
        "def my_function(x):\n",
        "  x = x @ x\n",
        "  return jnp.maximum(0.0, x)"
      ],
      "metadata": {
        "id": "_lCTARoLPstH"
      },
      "execution_count": 25,
      "outputs": []
    },
    {
      "cell_type": "code",
      "source": [
        "%timeit my_function(x).block_until_ready()"
      ],
      "metadata": {
        "id": "L9UGZlkmQygP",
        "outputId": "363cc9fa-9d2d-45a4-84bc-ce103fe54889",
        "colab": {
          "base_uri": "https://localhost:8080/"
        }
      },
      "execution_count": 33,
      "outputs": [
        {
          "output_type": "stream",
          "name": "stdout",
          "text": [
            "3.93 ms ± 31.4 µs per loop (mean ± std. dev. of 7 runs, 100 loops each)\n"
          ]
        }
      ]
    },
    {
      "cell_type": "code",
      "source": [
        "my_function_jitted = jax.jit(my_function)"
      ],
      "metadata": {
        "id": "U7GlrmHaRlTn"
      },
      "execution_count": 31,
      "outputs": []
    },
    {
      "cell_type": "code",
      "source": [
        "%timeit my_function_jitted(x).block_until_ready()"
      ],
      "metadata": {
        "id": "EAtGu6EnQ8-4",
        "outputId": "42c42118-9016-424b-c0a4-44fc6d59c0a0",
        "colab": {
          "base_uri": "https://localhost:8080/"
        }
      },
      "execution_count": 32,
      "outputs": [
        {
          "output_type": "stream",
          "name": "stdout",
          "text": [
            "3.93 ms ± 24.4 µs per loop (mean ± std. dev. of 7 runs, 100 loops each)\n"
          ]
        }
      ]
    },
    {
      "cell_type": "code",
      "source": [
        "import seaborn as sns\n",
        "\n",
        "_ = jnp.nan\n",
        "scores = jnp.array([[5,4,4,1],\n",
        "    [2,3,3,4.5],\n",
        "    [3,2,3,4],\n",
        "    [4,4,5,_],\n",
        "    [3,_,_,_]])"
      ],
      "metadata": {
        "id": "rEye-oUxRN1w"
      },
      "execution_count": 36,
      "outputs": []
    },
    {
      "cell_type": "code",
      "source": [
        "sns.heatmap(\n",
        "    scores,\n",
        "    annot=True,\n",
        "    fmt=\".1f\",\n",
        "    xticklabels=['Gouda', 'Chevre', 'Emmentaler', 'Brie',],\n",
        "    yticklabels=['A','B','C','D','E',]\n",
        ")"
      ],
      "metadata": {
        "id": "jpZh9c1IVK67",
        "outputId": "be18a682-6be6-4243-f6f9-aa18334bd6f5",
        "colab": {
          "base_uri": "https://localhost:8080/",
          "height": 452
        }
      },
      "execution_count": 37,
      "outputs": [
        {
          "output_type": "execute_result",
          "data": {
            "text/plain": [
              "<Axes: >"
            ]
          },
          "metadata": {},
          "execution_count": 37
        },
        {
          "output_type": "display_data",
          "data": {
            "text/plain": [
              "<Figure size 640x480 with 2 Axes>"
            ],
            "image/png": "[encoded data removed]"
          },
          "metadata": {}
        }
      ]
    },
    {
      "cell_type": "code",
      "source": [],
      "metadata": {
        "id": "BJSsfUpmVT7K"
      },
      "execution_count": null,
      "outputs": []
    }
  ]
}